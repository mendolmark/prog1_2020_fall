{
 "cells": [
  {
   "cell_type": "code",
   "execution_count": null,
   "metadata": {},
   "outputs": [],
   "source": [
    "\n",
    "#Pythonnal nem sikerült úgy kigyűjtenem az adatokat, hogy azt utána kezeleni tudjam, ezért excelben\n",
    "#formáztam meg. A notebookok mellé feltöltöm azt az excelt, amit kigyűjtöttem az előző notebookkal\n",
    "#és azt is amivel ebben a notebookban készítettem."
   ]
  },
  {
   "cell_type": "code",
   "execution_count": 17,
   "metadata": {},
   "outputs": [],
   "source": [
    "import numpy as np\n",
    "import pandas as pd"
   ]
  },
  {
   "cell_type": "code",
   "execution_count": 18,
   "metadata": {},
   "outputs": [],
   "source": [
    "excel = 'receptkonyv2.xlsx'\n",
    "df = pd.read_excel(excel)"
   ]
  },
  {
   "cell_type": "code",
   "execution_count": 19,
   "metadata": {},
   "outputs": [],
   "source": [
    "#oszlopok összevonása\n",
    "df2 = df.apply(lambda x: list([x['Hozzávalók1'],\n",
    "                                        x['Hozzávalók2'],\n",
    "                                        x['Hozzávalók3'],\n",
    "                                        x['Hozzávalók4'],\n",
    "                                        x['Hozzávalók5'],\n",
    "                                        x['Hozzávalók6'],\n",
    "                                        x['Hozzávalók7'],\n",
    "                                        x['Hozzávalók8'],\n",
    "                                        x['Hozzávalók9'],\n",
    "                                        x['Hozzávalók10'],\n",
    "                                        x['Hozzávalók11'],\n",
    "                                        x['Hozzávalók12'],\n",
    "                                        x['Hozzávalók13'],\n",
    "                                        x['Hozzávalók14'],\n",
    "                                        x['Hozzávalók15']]),axis=1)\n",
    "df['osszesitett'] = df2"
   ]
  },
  {
   "cell_type": "code",
   "execution_count": 20,
   "metadata": {},
   "outputs": [
    {
     "name": "stdout",
     "output_type": "stream",
     "text": [
      "3\n",
      "birs\n",
      "cukor\n",
      "citromlé\n"
     ]
    }
   ],
   "source": [
    "jorecept = []\n",
    "\n",
    "inputlista = []#ebbe gyűjti a hozzávalókat\n",
    "mennyi = int(input())#ez arra kiváncsi, hány hozzávalót írsz be\n",
    "\n",
    "for i in range(mennyi):\n",
    "    inputlista.append(input())#ez kéri be a megfelelő számú hozzávalót\n",
    "\n",
    "for elemek in df['osszesitett']:\n",
    "    elemek_set = set(elemek)\n",
    "    inputlista_set = set(inputlista)\n",
    "    if len(elemek_set&inputlista_set) == mennyi:#ez kigyűjti azokat a hozzávalólistákat, amelyekben megtalálható az össze megadott hozzávaló\n",
    "        jorecept.append(elemek)"
   ]
  },
  {
   "cell_type": "code",
   "execution_count": 21,
   "metadata": {},
   "outputs": [
    {
     "name": "stdout",
     "output_type": "stream",
     "text": [
      "https://www.nosalty.hu/recept/birsalmasajt-egyszeruen\n",
      "https://www.nosalty.hu/recept/makos-birsalmasajt\n",
      "https://www.nosalty.hu/recept/birsalmas-diotorta\n"
     ]
    }
   ],
   "source": [
    "#oszlopok kigyűjtése listába\n",
    "osszesrecept = list(df['osszesitett'])\n",
    "osszesnev = list(df['Étel neve'])\n",
    "osszeslink = list(df['Receptek'])\n",
    "indexlista = []#ide kerülnek majd a receptek indexei, amik alapján majd kigyűjtöm a linkeket\n",
    "for i in osszesrecept:\n",
    "    for x in jorecept:\n",
    "        if x==i:# ezzel gyűjtöm ki a megfelelő receptek linkjeit\n",
    "            indexlista.append(osszesrecept.index(i))\n",
    "for i in indexlista:\n",
    "    print (osszeslink[int(i)])"
   ]
  }
 ],
 "metadata": {
  "kernelspec": {
   "display_name": "Python 3",
   "language": "python",
   "name": "python3"
  },
  "language_info": {
   "codemirror_mode": {
    "name": "ipython",
    "version": 3
   },
   "file_extension": ".py",
   "mimetype": "text/x-python",
   "name": "python",
   "nbconvert_exporter": "python",
   "pygments_lexer": "ipython3",
   "version": "3.8.3"
  }
 },
 "nbformat": 4,
 "nbformat_minor": 4
}
