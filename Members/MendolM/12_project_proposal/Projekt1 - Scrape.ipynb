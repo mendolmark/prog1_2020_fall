{
 "cells": [
  {
   "cell_type": "code",
   "execution_count": null,
   "metadata": {},
   "outputs": [],
   "source": [
    "#A projektemben lescrapeltem közel 8000 receptet nosaltyról, amiket aztán egy excel táblába gyűjtöttem.\n",
    "#A projekt második felében a megformázott excel táblát felhasználva, írtam egy programot, ami hozzávalókat(inputokat)\n",
    "#kér be, aztán olyan receptek linkjeit mutatja meg, amelyek receptjeiben minden megadott hozzávaló szerepel."
   ]
  },
  {
   "cell_type": "code",
   "execution_count": 8,
   "metadata": {},
   "outputs": [],
   "source": [
    "import requests\n",
    "from bs4 import BeautifulSoup\n",
    "import pandas as pd\n",
    "from csv import reader\n",
    "import unicodecsv as csv\n",
    "import xlsxwriter"
   ]
  },
  {
   "cell_type": "code",
   "execution_count": 9,
   "metadata": {
    "scrolled": false
   },
   "outputs": [
    {
     "name": "stdout",
     "output_type": "stream",
     "text": [
      "['https://www.nosalty.hu/recept/olasz-cukros-fank', 'https://www.nosalty.hu/recept/csoben-sult-toltott-kaposzta', 'https://www.nosalty.hu/recept/repahummusz-grillgombaval', 'https://www.nosalty.hu/recept/klasszikus-francia-eclair-fank', 'https://www.nosalty.hu/recept/kremes-janokiandrea-konyhajabol', 'https://www.nosalty.hu/recept/grillezett-hal', 'https://www.nosalty.hu/recept/mezeskalacsos-muffin', 'https://www.nosalty.hu/recept/csirkefalatkak', 'https://www.nosalty.hu/recept/hazi-keszitesu-hasabburgonya', 'https://www.nosalty.hu/recept/egesz-grillcsirke', 'https://www.nosalty.hu/recept/sonkas-rakott-kelkaposzta-bulgurral', 'https://www.nosalty.hu/recept/hetkoznap-esti-minestrone', 'https://www.nosalty.hu/recept/eleszto-nelkuli-gyors-fank-gluten-laktoz-es-cukormentesen', 'https://www.nosalty.hu/recept/zoldsegchipsek-keksajtos-martogatossal', 'https://www.nosalty.hu/recept/azsiai-mazas-ragacsos-oldalas']\n"
     ]
    }
   ],
   "source": [
    "#Receptek linkjeinek kigyűjtése\n",
    "\n",
    "page0 = 'https://www.nosalty.hu'\n",
    "\n",
    "receptlinkek = []#ebbe kerülnek majd a linkek\n",
    "for x in range(1,2):#minden oldalon tizenöt link van, szóval a range 1-el növelése 15-el növeli a linkeket\n",
    "    r = requests.get(f'https://www.nosalty.hu/receptek?page={x}')\n",
    "    soup = BeautifulSoup(r.content, 'lxml')\n",
    "\n",
    "    receptlista = soup.find_all('li', class_='m-grid__child')\n",
    "\n",
    "    for item in receptlista:\n",
    "        for link in item.find_all('a', href=True):\n",
    "            receptlinkek.append(page0 + link['href'])\n",
    "del receptlinkek[::2]#mivel a képbe és a címbe is be van ágyazva, ezért duplán szedte ki, ezért kitörlöm minden másodikat\n",
    "print(receptlinkek)"
   ]
  },
  {
   "cell_type": "code",
   "execution_count": 10,
   "metadata": {},
   "outputs": [
    {
     "name": "stdout",
     "output_type": "stream",
     "text": [
      "['Olasz cukros fánk', 'Töltött káposzta dagadóból', 'Répahummusz grillgombával', 'Klasszikus francia eclair fánk', 'Krémes janokiandrea konyhájából', 'Grillezett hal', 'Mézeskalácsos muffin', 'Csirkefalatkák', 'Házi készítésű hasábburgonya', 'Egész grillcsirke', 'Sonkás, rakott kelkáposzta bulgurral', 'Hétköznap esti minestrone', 'Élesztő nélküli, gyors fánk glutén-, laktóz- és cukormentesen', 'Zöldségchipsek kéksajtos mártogatóssal', 'Ázsiai stílusú mázas-ragacsos oldalas']\n",
      "['    finomliszt    sütőpor    cukor    vanília kivonat    citromhéj    tojás    tej    napraforgó olaj          ', '    sertésdagadó    vöröshagyma    fokhagyma    füstölt szalonna    kolbász    császárszalonna    füstölt pirospaprika    őrölt fűszerkömény    só    bors    rizs    savanyú káposzta    káposztalevél    babérlevél    víz          ', '    csiperkegomba    sárgarépa    csicseriborsó konzerv    fokhagyma    koriander    tortilla lap    olívaolaj    só    bors    menta    víz          ', '    víz    vaj    finomliszt    só    cukor    tojás    tej    tojássárgája    étkezési keményítő    cukor    vanília    étcsokoládé    habtejszín    napraforgó olaj    eper    málna    törökmogyoró    cukorgyöngy    dekorgyöngy          ', '    leveles tészta    tej    vaníliás pudingpor    cukor    tojássárgája    vaníliás cukor    tojásfehérje    cukor          ', '    tojás    citrom    rozmaring    só          ', '    tojás    méz    repceolaj    tej    finomliszt    sütőpor    mézeskalács fűszerkeverék    fahéj    porcukor          ', '    csirkemell filé    finomliszt    tojás    főzőtejszín    zsemlemorzsa    napraforgó olaj    só          ', '    burgonya    napraforgó olaj          ', '    csirke    füstölt pirospaprika    só    napraforgó olaj          ', '    kelkáposzta    sertészsír    vöröshagyma    fűszerpaprika    darált sertéshús    fokhagyma    só    bors    kakukkfű    bazsalikom    bulgur    só    tejföl    főtt sonka    víz          ', '    napraforgó olaj    vöröshagyma    fokhagyma    zöldségkeverék    kelkáposzta    passzírozott paradicsom    só    bors    petrezselyem    spagetti tészta    leveskocka          ', '    gluténmentes lisztkeverék    tojás    víz    édesítőszer    napraforgó olaj    sütőpor    laktózmentes tej    puncs pudingpor    laktózmentes tej    édesítőszer    napraforgó olaj          ', '    sárgarépa    csicsóka    édesburgonya    cékla    ricotta    vajkrém    kéksajt    só    bors          ', '    sertésoldalas    szójaszósz    szezámolaj    fokhagyma    gyömbér    chiliszósz    salottahagyma    melaszos nádcukor    rizsecet    szezámmag    basmati rizs    víz          ']\n",
      "['https://www.nosalty.hu/recept/olasz-cukros-fank', 'https://www.nosalty.hu/recept/csoben-sult-toltott-kaposzta', 'https://www.nosalty.hu/recept/repahummusz-grillgombaval', 'https://www.nosalty.hu/recept/klasszikus-francia-eclair-fank', 'https://www.nosalty.hu/recept/kremes-janokiandrea-konyhajabol', 'https://www.nosalty.hu/recept/grillezett-hal', 'https://www.nosalty.hu/recept/mezeskalacsos-muffin', 'https://www.nosalty.hu/recept/csirkefalatkak', 'https://www.nosalty.hu/recept/hazi-keszitesu-hasabburgonya', 'https://www.nosalty.hu/recept/egesz-grillcsirke', 'https://www.nosalty.hu/recept/sonkas-rakott-kelkaposzta-bulgurral', 'https://www.nosalty.hu/recept/hetkoznap-esti-minestrone', 'https://www.nosalty.hu/recept/eleszto-nelkuli-gyors-fank-gluten-laktoz-es-cukormentesen', 'https://www.nosalty.hu/recept/zoldsegchipsek-keksajtos-martogatossal', 'https://www.nosalty.hu/recept/azsiai-mazas-ragacsos-oldalas']\n"
     ]
    }
   ],
   "source": [
    "#ezekbe a listákba gyűjtöm az adatokat\n",
    "kajalista = []\n",
    "hozzavalolista = []\n",
    "nagylista = []\n",
    "for page in receptlinkek:#adatok kigyűjtése\n",
    "    l = requests.get(page)\n",
    "    soup = BeautifulSoup(l.content, 'html.parser')\n",
    "    hozzavalok = soup.find(id='ingredients')\n",
    "    kajanev = soup.find(class_='p-article__title -recipe pt-8 mb-5 d-block').text.strip()\n",
    "    items = hozzavalok.find_all(class_='m-list__item p-2 -dotted -fontSize-16 d-flex justify-content-between pl-5')\n",
    "    period_names = [item.find(class_='a-link -primaryHoverEffect -fontSize-16').get_text() for item in items]\n",
    "    kajalista.append(kajanev)\n",
    "    hozzavalolista.append(period_names)\n",
    "striped = []\n",
    "namostmartenyleg = []\n",
    "receptjo = [''.join(ele) for ele in hozzavalolista]\n",
    "for i in receptjo:\n",
    "    striped.append(i.replace('\\n', ''))\n",
    "for i in striped:\n",
    "    namostmartenyleg.append(i.replace('           ',' '))\n",
    "    \n",
    "print(kajalista)\n",
    "print(namostmartenyleg)\n",
    "print(receptlinkek)\n",
    "\n",
    "#kigyűjtés excelbe\n",
    "workbook = xlsxwriter.Workbook('receptkonyv.xlsx')\n",
    "sheet = workbook.add_worksheet ()\n",
    "\n",
    "sheet.write('A1', 'Étel neve')\n",
    "sheet.write('B1', 'Receptek')\n",
    "sheet.write('C1', 'Link')\n",
    "\n",
    "#oszlopok meghatározása és kigyűjtése\n",
    "for i in range(len(kajalista)):\n",
    "    sheet.write(i+1, 0, kajalista[i])\n",
    "for i in range(len(receptlinkek)):\n",
    "    sheet.write(i+1, 1, receptlinkek[i])\n",
    "for i in range(len(namostmartenyleg)):\n",
    "    sheet.write(i+1, 2, namostmartenyleg[i])\n",
    "\n",
    "workbook.close()"
   ]
  },
  {
   "cell_type": "code",
   "execution_count": null,
   "metadata": {},
   "outputs": [],
   "source": []
  }
 ],
 "metadata": {
  "kernelspec": {
   "display_name": "Python 3",
   "language": "python",
   "name": "python3"
  },
  "language_info": {
   "codemirror_mode": {
    "name": "ipython",
    "version": 3
   },
   "file_extension": ".py",
   "mimetype": "text/x-python",
   "name": "python",
   "nbconvert_exporter": "python",
   "pygments_lexer": "ipython3",
   "version": "3.8.3"
  }
 },
 "nbformat": 4,
 "nbformat_minor": 4
}
