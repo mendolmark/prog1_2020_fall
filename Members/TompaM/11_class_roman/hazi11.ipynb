{
 "cells": [
  {
   "cell_type": "code",
   "execution_count": 1,
   "metadata": {},
   "outputs": [],
   "source": [
    "import requests\n",
    "from bs4 import BeautifulSoup\n",
    "import pandas as pd"
   ]
  },
  {
   "cell_type": "code",
   "execution_count": 2,
   "metadata": {
    "scrolled": true
   },
   "outputs": [],
   "source": [
    "roms = pd.concat([pd.DataFrame(\n",
    "    [{'arab':a.text.split()[0],'roman':a.text.split()[1]} for a in \\\n",
    " BeautifulSoup(requests.get('https://smorgasborg.artlung.com/roman-numerals/page/%d' % p) \\\n",
    "              .content,'html5lib').find('pre').find_all('a')]) for p in range(1,11)])"
   ]
  },
  {
   "cell_type": "code",
   "execution_count": 3,
   "metadata": {},
   "outputs": [],
   "source": [
    "roms = roms[roms['arab'] != '0']"
   ]
  },
  {
   "cell_type": "code",
   "execution_count": 4,
   "metadata": {},
   "outputs": [],
   "source": [
    "def rom2ar_test(fun): # ez azokat az eseteket adja vissza, ahol az átváltás helytelen\n",
    "    calc = roms['roman'].apply(fun)\n",
    "    tru = roms['arab'].apply(int)\n",
    "    return roms[calc != tru]"
   ]
  },
  {
   "cell_type": "code",
   "execution_count": 5,
   "metadata": {},
   "outputs": [],
   "source": [
    "def rom2ar(rom_string):\n",
    "    romaiszamok = {\"M\":1000,\"CM\":900,\"D\":500,\"CD\":400,\"C\":100,\"XC\":90,\"L\":50,\"XL\":40,\"X\":10,\"IX\":9,\"V\":5,\"IV\":4,\"I\":1}\n",
    "    eredmeny = 0\n",
    "\n",
    "    while rom_string:\n",
    "        if rom_string[:2] in romaiszamok:\n",
    "            eredmeny += romaiszamok[rom_string[:2]]\n",
    "            rom_string = rom_string[2:]\n",
    "        elif rom_string[:1] in romaiszamok:\n",
    "            eredmeny += romaiszamok[rom_string[:1]]\n",
    "            rom_string = rom_string [1:]\n",
    "    return(eredmeny)"
   ]
  },
  {
   "cell_type": "code",
   "execution_count": 6,
   "metadata": {},
   "outputs": [
    {
     "data": {
      "text/html": [
       "<div>\n",
       "<style scoped>\n",
       "    .dataframe tbody tr th:only-of-type {\n",
       "        vertical-align: middle;\n",
       "    }\n",
       "\n",
       "    .dataframe tbody tr th {\n",
       "        vertical-align: top;\n",
       "    }\n",
       "\n",
       "    .dataframe thead th {\n",
       "        text-align: right;\n",
       "    }\n",
       "</style>\n",
       "<table border=\"1\" class=\"dataframe\">\n",
       "  <thead>\n",
       "    <tr style=\"text-align: right;\">\n",
       "      <th></th>\n",
       "      <th>arab</th>\n",
       "      <th>roman</th>\n",
       "    </tr>\n",
       "  </thead>\n",
       "  <tbody>\n",
       "  </tbody>\n",
       "</table>\n",
       "</div>"
      ],
      "text/plain": [
       "Empty DataFrame\n",
       "Columns: [arab, roman]\n",
       "Index: []"
      ]
     },
     "execution_count": 6,
     "metadata": {},
     "output_type": "execute_result"
    }
   ],
   "source": [
    "rom2ar_test(rom2ar)"
   ]
  },
  {
   "cell_type": "code",
   "execution_count": 7,
   "metadata": {},
   "outputs": [],
   "source": [
    "class Roman:\n",
    "    \n",
    "    def __init__(self, num):\n",
    "        \n",
    "        if isinstance(num, str):\n",
    "            self.roman = num\n",
    "            self.arab = 0\n",
    "        \n",
    "        if isinstance(num, int):\n",
    "            self.arab = num\n",
    "            self.roman = rom2ar(num)\n",
    "    def rom2ar(self, rom_string):\n",
    "        romaiszamok = {\"M\":1000,\"CM\":900,\"D\":500,\"CD\":400,\"C\":100,\"XC\":90,\"L\":50,\"XL\":40,\"X\":10,\"IX\":9,\"V\":5,\"IV\":4,\"I\":1}\n",
    "        eredmeny = 0\n",
    "\n",
    "        while rom_string:\n",
    "            if rom_string[:2] in romaiszamok:\n",
    "                eredmeny += romaiszamok[rom_string[:2]]\n",
    "                rom_string = rom_string[2:]\n",
    "            elif rom_string[:1] in romaiszamok:\n",
    "                eredmeny += romaiszamok[rom_string[:1]]\n",
    "                rom_string = rom_string [1:]\n",
    "        return(eredmeny)\n",
    "    "
   ]
  },
  {
   "cell_type": "code",
   "execution_count": 8,
   "metadata": {},
   "outputs": [
    {
     "data": {
      "text/plain": [
       "4"
      ]
     },
     "execution_count": 8,
     "metadata": {},
     "output_type": "execute_result"
    }
   ],
   "source": [
    "r = Roman ('IV')\n",
    "r.rom2ar ('IV')"
   ]
  },
  {
   "cell_type": "markdown",
   "metadata": {},
   "source": [
    "A fordító függvény jó megoldás, viszont a class-ba építés lehetne szofisztikáltabb. Most, ha megadok egy római számot a classnak selfként, akkor nem tartozik hozzá olyan metódus, ami automatikusan átváltja a római számot arabra, és nem kell a függvény paraméterébe egy másikat beadni. Pl most meg lehet csinálni ezt:"
   ]
  },
  {
   "cell_type": "code",
   "execution_count": 9,
   "metadata": {},
   "outputs": [
    {
     "data": {
      "text/plain": [
       "9"
      ]
     },
     "execution_count": 9,
     "metadata": {},
     "output_type": "execute_result"
    }
   ],
   "source": [
    "Roman(\"V\").rom2ar(\"IX\")"
   ]
  },
  {
   "cell_type": "markdown",
   "metadata": {},
   "source": [
    "És itt kicsit furcsa, hogy két arab számot adok a programnak és az egyiket váltja át. Sebi mappáját érdemes megnézni, hogyan lehet ezt kiküszöbölni, de amúgy szép házi feladat. :) - VÁ"
   ]
  },
  {
   "cell_type": "code",
   "execution_count": null,
   "metadata": {},
   "outputs": [],
   "source": []
  }
 ],
 "metadata": {
  "kernelspec": {
   "display_name": "Python 3",
   "language": "python",
   "name": "python3"
  },
  "language_info": {
   "codemirror_mode": {
    "name": "ipython",
    "version": 3
   },
   "file_extension": ".py",
   "mimetype": "text/x-python",
   "name": "python",
   "nbconvert_exporter": "python",
   "pygments_lexer": "ipython3",
   "version": "3.8.6"
  }
 },
 "nbformat": 4,
 "nbformat_minor": 4
}
