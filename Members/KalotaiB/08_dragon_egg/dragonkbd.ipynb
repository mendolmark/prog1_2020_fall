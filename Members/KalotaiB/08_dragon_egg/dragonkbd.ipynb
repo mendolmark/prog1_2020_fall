{
 "cells": [
  {
   "cell_type": "code",
   "execution_count": 120,
   "metadata": {},
   "outputs": [],
   "source": [
    "from jkg_evaluators import dragonfind_10_to_500"
   ]
  },
  {
   "cell_type": "code",
   "execution_count": 121,
   "metadata": {},
   "outputs": [],
   "source": [
    "cow_alive_list_test_1 = [False, False, True, True, True]"
   ]
  },
  {
   "cell_type": "code",
   "execution_count": 122,
   "metadata": {},
   "outputs": [
    {
     "data": {
      "text/plain": [
       "'\\ndef my_solution2(cow_alive_list,fing):\\n    fat_alive_cow_index = 0\\n    thin_alive_cow_index = len(cow_alive_list) - 1\\n    \\n    while (fat_alive_cow_index + 1) < thin_alive_cow_index:\\n        middle_cow = int((fat_alive_cow_index + \\n                          thin_alive_cow_index) / 2)\\n        if cow_alive_list[middle_cow]:\\n            thin_alive_cow_index = middle_cow\\n        else:\\n            fat_alive_cow_index = middle_cow\\n    \\n    return middle_cow + 1\\n'"
      ]
     },
     "execution_count": 122,
     "metadata": {},
     "output_type": "execute_result"
    }
   ],
   "source": [
    "#FELADAT\n",
    "\"\"\"\n",
    "def my_solution2(cow_alive_list,fing):\n",
    "    fat_alive_cow_index = 0\n",
    "    thin_alive_cow_index = len(cow_alive_list) - 1\n",
    "    \n",
    "    while (fat_alive_cow_index + 1) < thin_alive_cow_index:\n",
    "        middle_cow = int((fat_alive_cow_index + \n",
    "                          thin_alive_cow_index) / 2)\n",
    "        if cow_alive_list[middle_cow]:\n",
    "            thin_alive_cow_index = middle_cow\n",
    "        else:\n",
    "            fat_alive_cow_index = middle_cow\n",
    "    \n",
    "    return middle_cow + 1\n",
    "\"\"\"    "
   ]
  },
  {
   "cell_type": "code",
   "execution_count": 123,
   "metadata": {},
   "outputs": [],
   "source": [
    "#MEGOLDÁSom\n",
    "def my_solution2(cow_alive_list, fing):\n",
    "    \n",
    "    thin_alive_cow_index = 0  #első elem balra\n",
    "    fat_alive_cow_index = len(cow_alive_list) - 1 #utolsó jobbra\n",
    "    \n",
    "   # felcseréltem, logikusabb\n",
    "   #fat_alive_cow_index = 0\n",
    "   # thin_alive_cow_index = len(cow_alive_list) - 1\n",
    "    \n",
    "    while (thin_alive_cow_index) <= (fat_alive_cow_index):\n",
    "        middle_cow = thin_alive_cow_index + (fat_alive_cow_index - thin_alive_cow_index) // 2 \n",
    "              #  int((fat_alive_cow_index + thin_alive_cow_index) / 2) \n",
    "        middle_cow_value = cow_alive_list[middle_cow]\n",
    "        if middle_cow_value == fing:\n",
    "            return middle_cow\n",
    "        \n",
    "        elif fing < middle_cow_value:\n",
    "            fat_alive_cow_index = middle_cow - 1 \n",
    "            \n",
    "        else:     \n",
    "            thin_alive_cow_index = middle_cow + 1\n",
    "            \n",
    "    return None       \n",
    "    \n",
    "        \n"
   ]
  },
  {
   "cell_type": "code",
   "execution_count": 124,
   "metadata": {},
   "outputs": [
    {
     "ename": "SyntaxError",
     "evalue": "EOF while scanning triple-quoted string literal (<ipython-input-124-a77d147eea3b>, line 18)",
     "output_type": "error",
     "traceback": [
      "\u001b[1;36m  File \u001b[1;32m\"<ipython-input-124-a77d147eea3b>\"\u001b[1;36m, line \u001b[1;32m18\u001b[0m\n\u001b[1;33m    \u001b[0m\n\u001b[1;37m    ^\u001b[0m\n\u001b[1;31mSyntaxError\u001b[0m\u001b[1;31m:\u001b[0m EOF while scanning triple-quoted string literal\n"
     ]
    }
   ],
   "source": [
    "\"\"\"\"\n",
    "def my_solution3(fing, cow_alive_list):\n",
    "\n",
    "    middle_cow = thin_alive_cow_index + (fat_alive_cow_index - thin_alive_cow_index) // 2 \n",
    "        \n",
    "    if fing(middle_cow):\n",
    "        \n",
    "        \n",
    "        for i in range(middle_cow, number_of_cows - 1):\n",
    "            if not is_dead(i):\n",
    "                return i\n",
    "\n",
    "    else:\n",
    "\n",
    "        for i in range(1, middle_cow):\n",
    "            if not is_dead(i):\n",
    "                return i\n",
    "        \n"
   ]
  },
  {
   "cell_type": "code",
   "execution_count": 132,
   "metadata": {},
   "outputs": [],
   "source": [
    "def my_solution4(is_dead,                number_of_cows):\n",
    "\n",
    "    middle_cow = int(number_of_cows / 2)\n",
    "\n",
    "    if is_dead(middle_cow):\n",
    "\n",
    "        for i in range(middle_cow, number_of_cows - 1):\n",
    "            if not is_dead(i):\n",
    "                return i\n",
    "\n",
    "    else:\n",
    "\n",
    "        for i in range(1, middle_cow):\n",
    "            if not is_dead(i):\n",
    "                return i"
   ]
  },
  {
   "cell_type": "code",
   "execution_count": 126,
   "metadata": {},
   "outputs": [],
   "source": [
    "#próba\n",
    "cow_alive_list = [2, 3, 8, 17, 21, 28, 30, 31, 36, 41, 44, 45, 47, 52, 55, 60, 64, 66]\n",
    "fing = 52"
   ]
  },
  {
   "cell_type": "code",
   "execution_count": 127,
   "metadata": {},
   "outputs": [
    {
     "data": {
      "text/plain": [
       "13"
      ]
     },
     "execution_count": 127,
     "metadata": {},
     "output_type": "execute_result"
    }
   ],
   "source": [
    "my_solution2(cow_alive_list,fing)"
   ]
  },
  {
   "cell_type": "code",
   "execution_count": 130,
   "metadata": {},
   "outputs": [
    {
     "name": "stdout",
     "output_type": "stream",
     "text": [
      "13\n"
     ]
    }
   ],
   "source": [
    "a = my_solution2(cow_alive_list,fing)\n",
    "print(a)\n",
    "#mükszi"
   ]
  },
  {
   "cell_type": "code",
   "execution_count": 131,
   "metadata": {},
   "outputs": [
    {
     "name": "stdout",
     "output_type": "stream",
     "text": [
      "- success rate: 0/124714 (0.0%)\n",
      "- error count: 124714\n",
      "\n",
      "\n",
      " ERROR at: \n",
      " {'number_of_cows': 10, 'dragon_coming_to': 1} \n",
      " - TypeError (object of type 'method' has no len())\n",
      "\n",
      "\n",
      " ERROR at: \n",
      " {'number_of_cows': 10, 'dragon_coming_to': 2} \n",
      " - TypeError (object of type 'method' has no len())\n",
      "\n",
      "\n",
      " ERROR at: \n",
      " {'number_of_cows': 10, 'dragon_coming_to': 3} \n",
      " - TypeError (object of type 'method' has no len())\n",
      "\n",
      "\n",
      " ERROR at: \n",
      " {'number_of_cows': 10, 'dragon_coming_to': 4} \n",
      " - TypeError (object of type 'method' has no len())\n",
      "\n",
      "\n",
      " ERROR at: \n",
      " {'number_of_cows': 10, 'dragon_coming_to': 5} \n",
      " - TypeError (object of type 'method' has no len())\n",
      "\n",
      "\n",
      " ERROR at: \n",
      " {'number_of_cows': 10, 'dragon_coming_to': 6} \n",
      " - TypeError (object of type 'method' has no len())\n",
      "\n",
      "\n",
      " ERROR at: \n",
      " {'number_of_cows': 10, 'dragon_coming_to': 7} \n",
      " - TypeError (object of type 'method' has no len())\n",
      "\n",
      "\n",
      " ERROR at: \n",
      " {'number_of_cows': 10, 'dragon_coming_to': 8} \n",
      " - TypeError (object of type 'method' has no len())\n",
      "\n",
      "\n",
      " ERROR at: \n",
      " {'number_of_cows': 10, 'dragon_coming_to': 9} \n",
      " - TypeError (object of type 'method' has no len())\n",
      "\n",
      "\n",
      " ERROR at: \n",
      " {'number_of_cows': 11, 'dragon_coming_to': 1} \n",
      " - TypeError (object of type 'method' has no len())\n"
     ]
    }
   ],
   "source": [
    "dragonfind_10_to_500.evaluate(my_solution2)"
   ]
  },
  {
   "cell_type": "code",
   "execution_count": 133,
   "metadata": {},
   "outputs": [
    {
     "name": "stdout",
     "output_type": "stream",
     "text": [
      "- success rate: 123732/124714 (99.0%)\n",
      "- error count: 0\n",
      "- best performance: 2\n",
      "- worst performance: 250\n",
      "- mean performance: 85.26525490321856\n",
      "\n",
      "\n",
      " BAD SOLUTION at: \n",
      " {'number_of_cows': 10, 'dragon_coming_to': 5}\n",
      "\n",
      "\n",
      " BAD SOLUTION at: \n",
      " {'number_of_cows': 10, 'dragon_coming_to': 9}\n",
      "\n",
      "\n",
      " BAD SOLUTION at: \n",
      " {'number_of_cows': 11, 'dragon_coming_to': 5}\n",
      "\n",
      "\n",
      " BAD SOLUTION at: \n",
      " {'number_of_cows': 11, 'dragon_coming_to': 10}\n",
      "\n",
      "\n",
      " BAD SOLUTION at: \n",
      " {'number_of_cows': 12, 'dragon_coming_to': 6}\n",
      "\n",
      "\n",
      " BAD SOLUTION at: \n",
      " {'number_of_cows': 12, 'dragon_coming_to': 11}\n",
      "\n",
      "\n",
      " BAD SOLUTION at: \n",
      " {'number_of_cows': 13, 'dragon_coming_to': 6}\n",
      "\n",
      "\n",
      " BAD SOLUTION at: \n",
      " {'number_of_cows': 13, 'dragon_coming_to': 12}\n",
      "\n",
      "\n",
      " BAD SOLUTION at: \n",
      " {'number_of_cows': 14, 'dragon_coming_to': 7}\n",
      "\n",
      "\n",
      " BAD SOLUTION at: \n",
      " {'number_of_cows': 14, 'dragon_coming_to': 13}\n"
     ]
    }
   ],
   "source": [
    "dragonfind_10_to_500.evaluate(my_solution4)"
   ]
  },
  {
   "cell_type": "code",
   "execution_count": 119,
   "metadata": {},
   "outputs": [
    {
     "data": {
      "image/png": "[encoded data removed]",
      "text/plain": [
       "<Figure size 792x504 with 1 Axes>"
      ]
     },
     "metadata": {
      "needs_background": "light"
     },
     "output_type": "display_data"
    }
   ],
   "source": [
    "dragonfind_10_to_500.visualize(my_solution4)\n"
   ]
  },
  {
   "cell_type": "code",
   "execution_count": null,
   "metadata": {},
   "outputs": [],
   "source": []
  },
  {
   "cell_type": "code",
   "execution_count": null,
   "metadata": {},
   "outputs": [],
   "source": []
  }
 ],
 "metadata": {
  "kernelspec": {
   "display_name": "Python 3",
   "language": "python",
   "name": "python3"
  },
  "language_info": {
   "codemirror_mode": {
    "name": "ipython",
    "version": 3
   },
   "file_extension": ".py",
   "mimetype": "text/x-python",
   "name": "python",
   "nbconvert_exporter": "python",
   "pygments_lexer": "ipython3",
   "version": "3.8.5"
  }
 },
 "nbformat": 4,
 "nbformat_minor": 2
}
