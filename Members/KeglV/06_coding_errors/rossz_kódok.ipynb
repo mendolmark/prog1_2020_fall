{
 "cells": [
  {
   "cell_type": "markdown",
   "metadata": {},
   "source": [
    "### Mi a hiba az alábbi kódokban? Javítsd ki őket!"
   ]
  },
  {
   "cell_type": "markdown",
   "metadata": {},
   "source": [
    "#### Annyi jupyter tutor, ami ehhez a házihoz remélhetőleg elég lesz.\n",
    "\n",
    "- Úgy jelöltök ki cellát, hogy belekattintotok.\n",
    "- A kijelölt cellát a nagy RUN gombra kattinva tudjátok lefuttatni. Illeve a CTRL+ENTER és SHIFT+ENTER kombinációval. Az előbbi csak lefuttatja a kijelölt cellát, míg az utóbbi továbblép a következő cellára és azt jelöli ki.\n",
    "- Ha véletlenül örökké futna egy kódrészlet akkor a standard STOP gombbal állíthatjátok le a futást.\n",
    "- Ha ennél nagyobb a baj akkor a Kernel fül alatt Restartoljatok. \n",
    "- Illetve a változtatásaitokat menteni is kell standard Save gomb vagy CTRL+S."
   ]
  },
  {
   "cell_type": "markdown",
   "metadata": {},
   "source": [
    "#### #1"
   ]
  },
  {
   "cell_type": "code",
   "execution_count": null,
   "metadata": {},
   "outputs": [],
   "source": [
    "def egy():\n",
    "    l1 = [3, 5, 24, 9, 15, -4, 87]\n",
    "    l2 = [6, 17, 134, -11, 26, -1]\n",
    "\n",
    "    #A beépített len függvény egy iterálható objektum elemeinek számát adja visszatérési értékként.\n",
    "    #Pl. lista elemeinek száma\n",
    "    for n in range(len(l1)):\n",
    "\n",
    "        if l1[n] > l2[n]:\n",
    "            print(n)\n",
    "egy()"
   ]
  },
  {
   "cell_type": "markdown",
   "metadata": {},
   "source": [
    "#### #2"
   ]
  },
  {
   "cell_type": "code",
   "execution_count": null,
   "metadata": {},
   "outputs": [],
   "source": [
    "def ketto(x, y, z):\n",
    "    \n",
    "    if x + y > z and x + z > y and y + z > x:\n",
    "        a = 'háromszög'\n",
    "    \n",
    "    if a == 'háromszög':\n",
    "        return (x, y, z)\n",
    "    else:\n",
    "        return 'semmi'\n",
    "\n",
    "ketto(1,2,3)"
   ]
  },
  {
   "cell_type": "markdown",
   "metadata": {},
   "source": [
    "#### #3"
   ]
  },
  {
   "cell_type": "code",
   "execution_count": null,
   "metadata": {},
   "outputs": [],
   "source": [
    "def harom():\n",
    "    k = 1\n",
    "    s = 0\n",
    "\n",
    "    while k <= 100:\n",
    "\n",
    "        if k % 2 == 0:\n",
    "            s = s + k\n",
    "\n",
    "harom()"
   ]
  },
  {
   "cell_type": "markdown",
   "metadata": {},
   "source": [
    "#### #4"
   ]
  },
  {
   "cell_type": "code",
   "execution_count": null,
   "metadata": {},
   "outputs": [],
   "source": [
    "def negy():\n",
    "    t = [0,1,4,3]\n",
    "\n",
    "    for i in range(len(t)):\n",
    "\n",
    "        if (len('alma') == range(t)) & (t(i) < 4):\n",
    "\n",
    "            None\n",
    "            \n",
    "negy()"
   ]
  },
  {
   "cell_type": "markdown",
   "metadata": {},
   "source": [
    "#### #5"
   ]
  },
  {
   "cell_type": "code",
   "execution_count": null,
   "metadata": {},
   "outputs": [],
   "source": [
    "def ot():\n",
    "    input_lista = [112,4234,721,1002,5982,1035]\n",
    "    out = []\n",
    "\n",
    "    for index in range(0,10):\n",
    "\n",
    "        if input_lista[i] < input_lista[i+1]:\n",
    "\n",
    "            out[i] == input_lista[i]\n",
    "\n",
    "        return out\n",
    "\n",
    "ot()"
   ]
  },
  {
   "cell_type": "markdown",
   "metadata": {},
   "source": [
    "#### #6"
   ]
  },
  {
   "cell_type": "code",
   "execution_count": null,
   "metadata": {},
   "outputs": [],
   "source": [
    "def hat():\n",
    "    l = [1,1,1,1,1]\n",
    "\n",
    "    while l[i] == 1:\n",
    "\n",
    "        if l[i+1] == i:\n",
    "\n",
    "            l[i] += 1\n",
    "\n",
    "        else:\n",
    "\n",
    "            'Error'\n",
    "            \n",
    "hat()"
   ]
  },
  {
   "cell_type": "markdown",
   "metadata": {},
   "source": [
    "#### #7"
   ]
  },
  {
   "cell_type": "code",
   "execution_count": null,
   "metadata": {},
   "outputs": [],
   "source": [
    "def het():\n",
    "    genya = 0\n",
    "    \n",
    "    for i in range(0, 10, 0.5):\n",
    "        genya += i\n",
    "\n",
    "    return genya\n",
    "    \n",
    "het()"
   ]
  },
  {
   "cell_type": "markdown",
   "metadata": {},
   "source": [
    "#### #8"
   ]
  },
  {
   "cell_type": "code",
   "execution_count": null,
   "metadata": {},
   "outputs": [],
   "source": [
    "def nyolc():\n",
    "    banka = \"almamáter\"\n",
    "    tanga = \"\"\n",
    "    for lanka in banka:\n",
    "        if lanka > tanga\n",
    "            tanga = lanka\n",
    "        else\n",
    "            return kifogytam\n",
    "        \n",
    "    return tanga\n",
    "    \n",
    "nyolc()"
   ]
  },
  {
   "cell_type": "markdown",
   "metadata": {},
   "source": [
    "#### #9"
   ]
  },
  {
   "cell_type": "code",
   "execution_count": null,
   "metadata": {},
   "outputs": [],
   "source": [
    "def kilenc():\n",
    "        árán = \"\"\n",
    "        száján = \"szárán\"\n",
    "    while len(árán) < 5:\n",
    "    árván = száján * 2\n",
    "        kárán = len(száján) // 3\n",
    "        \n",
    "            for bárány in száján:\n",
    "            if száján[kárán] == bárány:\n",
    "                álcám = True\n",
    "                else:\n",
    "                álcám = False\n",
    "        \n",
    "        if álcám:\n",
    "            lányán = False\n",
    "                fácán = True\n",
    "        else:\n",
    "            lányán = True\n",
    "            fácán = False\n",
    "        \n",
    "if lányán:\n",
    "    árán += \"m\"\n",
    "elif fácán:\n",
    "    árán += \"n\"\n",
    "else:\n",
    "    hamutálcán = \"pusztulásán\"\n",
    "            \n",
    "    return árán\n",
    "kilenc()"
   ]
  }
 ],
 "metadata": {
  "kernelspec": {
   "display_name": "Python 3",
   "language": "python",
   "name": "python3"
  },
  "language_info": {
   "codemirror_mode": {
    "name": "ipython",
    "version": 3
   },
   "file_extension": ".py",
   "mimetype": "text/x-python",
   "name": "python",
   "nbconvert_exporter": "python",
   "pygments_lexer": "ipython3",
   "version": "3.9.0"
  }
 },
 "nbformat": 4,
 "nbformat_minor": 4
}
