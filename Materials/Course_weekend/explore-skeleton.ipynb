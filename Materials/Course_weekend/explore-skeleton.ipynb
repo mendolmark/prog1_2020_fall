{
 "cells": [
  {
   "cell_type": "markdown",
   "metadata": {},
   "source": [
    "### adatleírás\n",
    "\n",
    "Az adat Hanga saját teljes facebook messenger history-ja, 2010-től 2020.04.18-ig. Azért nem láttok belőle mindent, a következők a korlátok:\n",
    "\n",
    "- az üzeneteket nem látjátok, csak a hosszukat, karakterben\n",
    "- mindenkinek a nevét véletlenszerűen kicseréltük egy híres emberével (a forbes celebrity top100-ból, oszkárdíjas/oszkár jelölt színészek és a top 100 kitalált karakter közül válogatva)\n",
    "- a névcsere konziztens, így egy híresség mindig ugyanazt az embert jelöli (akkor is, ha a csetben esetleg valaki megváltoztatta a nevét)\n",
    "- fotók, videók, stickerek és gifek sincsenek meg, csak az, hogy adott üzenetben a küldő hány ilyet küldött\n",
    "\n",
    "### forma\n",
    "\n",
    "Az adat *json* formátumban van, amit a pythonba úgy fogunk beolvasni, hogy egy listát kapunk, amiben dictionary-k vannak. Minden dictionary egy csetben történt eseményt jelöl, ezek a következőek lehetnek:\n",
    "- valaki üzenetet küldött\n",
    "- valaki megosztott valamilyen tartalmat\n",
    "- valakit felvettek a beszélgetésbe vagy kirakták/kirakta magát\n",
    "\n",
    "Minden dictionaryben 19 key van, amik a következőket jelentik:\n",
    "\n",
    "- ```type```: ez négy féle dolog lehet\n",
    "    - *Generic*: ez azt jelenti, hogy a dictionary egy sima üzenetet jelöl\n",
    "    - *Share*: ez valamilyen tartalom megosztását jelenti\n",
    "    - *Subscribe*: ez azt jelenti, hogy valaki hozzáadott valakit a beszélgetéshez\n",
    "    - *Unsubscribe*: ez azt jelenti, hogy valaki levett valakit a beszélgetésről\n",
    "- ```sender_name```: *string*, a küldő, megosztó, vagy beszélgetésbe felvevő/leszedő álneve\n",
    "- ```datetime```/```year```/```month```/```day```/```hour```/```minute```: ezek az esemény idejét jelzik\n",
    "- ```timestamp_ms```: az 1970 január 1. óta eltelt miliszekundumok számát jelzi (arra pl. elég jó, hogy nagyon könnyen ki lehet vele számolni két esemény között eltelt időt, meg összehasonlításra is szuper)\n",
    "- ```content_l```: *float*, ez mindig az üzenetben elküldött karakterek számát jelöli\n",
    "- ```gifs```/```videos```/```photos```/```sticker```: ezek a nevükben megfogalmazott tartalomtípus darabszámát jelölik az üzenetben\n",
    "- ```reactions```: ez egy lista azokról az emberekről, akik reactokat nyomkodtak az üzenetre\n",
    "- ```users```: ez egy lista azokról az emberekről, akik a beszélgetéshez hozzá lettek adva, vagy el lettek távolítva (csak akkor aktuális, ha a ```type``` *Subscribe* vagy *Unsubscribe* értéket vesz fel)\n",
    "- ```thread_path```: ez annak a threadnek (beszélgetésnek) az azonosítója, amiben az adott esemény történt\n",
    "- ```thread_type```: ez a thread fajtáját jelöli, lehet *RegularGroup* (csoportos) vagy *Regular* (egyéni)\n",
    "- ```index```: ez az adott esemény indexe, évenként egyedi\n",
    "\n",
    "### figyelmeztetések\n",
    "\n",
    "- **Az adat nincs időrendi sorrendben!** Ha olyan feladatot szeretnétek megoldani, amihez ez hasznos, nektek kell sorbarakni.\n",
    "- Vigyázzatok arra is, hogy **az index nem egyedi, még évente sem!**\n",
    "\n",
    "### beolvasás\n",
    "\n",
    "Az adat évenként van külön fájlokba szedve. Az alábbi egy elegáns megoldás, hogy beolvassátok ezeket egy python listába. A `glob` package listázza az adott path sémán található összes fájlt (a `*` jelzi, hogy annak a helyén bármilyen karakterek állhatnak). A `with open(path, \"r\") as fp` struktúra pedig megnyitja az adott path-tal rendelkező fájlt, beolvassa egy változóba, és utána be is csukja. Tehát a `get_data` függvénynek paraméteresen lehet megadni, hogy melyik fájlt olvassa be."
   ]
  },
  {
   "cell_type": "code",
   "execution_count": 4,
   "metadata": {},
   "outputs": [],
   "source": [
    "import glob\n",
    "import json"
   ]
  },
  {
   "cell_type": "code",
   "execution_count": 5,
   "metadata": {},
   "outputs": [],
   "source": [
    "message_files = sorted(glob.glob(\"data/*-msg.json\"))"
   ]
  },
  {
   "cell_type": "code",
   "execution_count": 9,
   "metadata": {},
   "outputs": [
    {
     "data": {
      "text/plain": [
       "['data/2010-msg.json',\n",
       " 'data/2011-msg.json',\n",
       " 'data/2012-msg.json',\n",
       " 'data/2013-msg.json',\n",
       " 'data/2014-msg.json',\n",
       " 'data/2015-msg.json',\n",
       " 'data/2016-msg.json',\n",
       " 'data/2017-msg.json',\n",
       " 'data/2018-msg.json',\n",
       " 'data/2019-msg.json',\n",
       " 'data/2020-msg.json']"
      ]
     },
     "execution_count": 9,
     "metadata": {},
     "output_type": "execute_result"
    }
   ],
   "source": [
    "message_files"
   ]
  },
  {
   "cell_type": "code",
   "execution_count": 6,
   "metadata": {},
   "outputs": [],
   "source": [
    "def get_data(path):\n",
    "\n",
    "    with open(path, \"r\") as fp:\n",
    "        file = json.load(fp)\n",
    "\n",
    "    return file"
   ]
  },
  {
   "cell_type": "code",
   "execution_count": 7,
   "metadata": {},
   "outputs": [],
   "source": [
    "list_of_dicts_2010 = get_data(message_files[0])"
   ]
  },
  {
   "cell_type": "code",
   "execution_count": 8,
   "metadata": {
    "scrolled": true
   },
   "outputs": [
    {
     "data": {
      "text/plain": [
       "{'index': 1797,\n",
       " 'sender_name': 'Colin Firth',\n",
       " 'timestamp_ms': 1289492566000,\n",
       " 'type': 'Generic',\n",
       " 'thread_path': 622,\n",
       " 'thread_type': 'Regular',\n",
       " 'reactions': [],\n",
       " 'sticker': None,\n",
       " 'ip': None,\n",
       " 'photos': 0,\n",
       " 'users': [],\n",
       " 'gifs': 0,\n",
       " 'videos': 0,\n",
       " 'content_l': 8,\n",
       " 'datetime': '2010-11-11T17:22:46.000Z',\n",
       " 'year': 2010,\n",
       " 'month': 11,\n",
       " 'day': 11,\n",
       " 'hour': 17,\n",
       " 'minute': 22}"
      ]
     },
     "execution_count": 8,
     "metadata": {},
     "output_type": "execute_result"
    }
   ],
   "source": [
    "list_of_dicts_2010[0]"
   ]
  },
  {
   "cell_type": "markdown",
   "metadata": {},
   "source": [
    "------"
   ]
  },
  {
   "cell_type": "markdown",
   "metadata": {},
   "source": [
    "### ábrázolás\n",
    "\n",
    "- ha esetleg szeretnétek valamit ábrázolni, javasoljuk hozzá a `matplotlib`, vagy a `seaborn` package-et\n",
    "\n",
    "#### [matplotlib dokumentáció](https://matplotlib.org/3.3.3/contents.html)\n",
    "#### [csinos ábrák seaborn-nal: Python Graph Gallery](https://python-graph-gallery.com/)"
   ]
  },
  {
   "cell_type": "markdown",
   "metadata": {},
   "source": [
    "-------------"
   ]
  },
  {
   "cell_type": "markdown",
   "metadata": {},
   "source": [
    "#### !!! Általános policy: abban az esetben, ha valamiből az elsőt kell megtalálni (vagy top5-öt a bónusz esetén), és több első is van, akkor az abc-sorrendben legelsőt adjátok meg megoldásként !!!\n",
    "\n",
    "### explore feladatok\n",
    "\n",
    "1. Mi Hanga álneve? (1 pont)\n",
    "2. Mi a jeszk-moments azonosítója? (2 pont)\n",
    "3. Ki írja átlagosan a leghosszabb üzeneteket? (2 pont)\n",
    "4. Ki unscubsribeolt legtöbbször a jeszk momentsből (2 pont)\n",
    "5. Ki küldte legtöbb képet a jeszk momentsbe? (2 pont)\n",
    "6. Hányan vannak, akik minden évben küldtek üzenetet? (3 pont)\n",
    "7. Hányan vannak, akik pontosan n évben küldtek üzenetet ($ n = 1, ... 11 $) (2 pont, ábrázolásért +1)\n",
    "8. Ki van bent a második legtöbb csetben? (3 pont)\n",
    "9. Melyik a 2019-es db-cset? (akkor volt Hanga DB-tag) (5 pont)\n",
    "10. Ki írta a legkevesebb üzenetet a 2019-es db-chatbe? (3 pont)\n",
    "11. Melyik az a cset, ahol a legtöbb idő telt el két ÜZENET között, és mennyi ez az idő? (4 pont)\n",
    "12. Hány emberrel beszél Hanga 2015 óta minden évben, és hánnyal 2016 óta minden évben (rajkba kerülésének éve óta), és ez alapján kik a rajkosok ebből a listából? (4 pont)\n",
    "13. Ki érte el a legtöbb átlagos reakciót a jeszk momentsben? (4 pont)\n",
    "\n",
    "### függvény feladatok\n",
    "\n",
    "14. Megadok egy timestamp-et, ki az eddig az időpontig írt leghosszabb üzenet szerzője? (1 pont)\n",
    "15. Megadok egy timestamp-et, melyik óra eddig az időpontig a legkevésbé aktív, amiben legalább egy interakció lezajlott? (tehát nem 0 az aktivitás) (1 pont)\n",
    "16. Megadok egy timestamp-et és egy embert, mondd meg, hány karaktert küldött eddig az időpontig (2 pont)\n",
    "17. Megadok egy timestamp-et, hányan írtak eddig az időpontig legalább 10 üzenetet? (3 pont)\n",
    "18. Megadok egy timestamp-et, melyik volt a top5 legaktívabb cset eddig az időpontig (4 pont)\n",
    "19. Megadok egy timestamp-et és egy csetet (thread_id), összesen hány különböző ember írt, összesen hány üzenetet és hány karaktert írtak eddig az időpontig? (4 pont)\n",
    "    - +2 pontért: emberenként csoportosítva hány üzenetet és hány karaktert küldtek\n",
    "20. Megadok egy órát, átlagosan hány üzenetet küldtek ebben az órában az összes olyan napra átlagolva, amikor küldtek üzenetet? (5 pont)\n",
    "21. Megadok egy timestamp-et, melyik csetbe és kicsoda írta  eddig az időpontig a legtöbb karaktert (5 pont)\n",
    "22. Megadok egy timestamp-et, mi volt a leghosszabb periódus eddig az időpontig üzenet nélkül (7 pont)\n",
    "\n",
    "### kötelező plusz\n",
    "\n",
    "- mindegyik csapatnak kötelező bedobni legalább 2 új feladatot\n",
    "\n",
    "### bónusz\n",
    "\n",
    "- bárhol ahol top1-et keresünk, megadni top5öt (+1 pont)\n",
    "- bármelyik csapat dobhat be a kettőn felül plusz feladatokat a megbeszélt időkorlátig publikusan, amiről mi megmondjuk, hogy hány pontot ér\n",
    "- ha olyan feladatot csinálsz meg, amit egyik másik csapat sem tudott (+1 pont)"
   ]
  },
  {
   "cell_type": "code",
   "execution_count": null,
   "metadata": {},
   "outputs": [],
   "source": []
  }
 ],
 "metadata": {
  "kernelspec": {
   "display_name": "Python 3",
   "language": "python",
   "name": "python3"
  },
  "language_info": {
   "codemirror_mode": {
    "name": "ipython",
    "version": 3
   },
   "file_extension": ".py",
   "mimetype": "text/x-python",
   "name": "python",
   "nbconvert_exporter": "python",
   "pygments_lexer": "ipython3",
   "version": "3.7.5"
  }
 },
 "nbformat": 4,
 "nbformat_minor": 2
}
