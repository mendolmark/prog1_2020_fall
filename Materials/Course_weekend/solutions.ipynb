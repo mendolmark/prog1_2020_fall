{
 "cells": [
  {
   "cell_type": "markdown",
   "metadata": {},
   "source": [
    "### ugrás ide <a id=\"top\">\n",
    "\n",
    "#### [package-ek és adat importálása](#import)\n",
    "#### [explore feladatok](#exp)\n",
    "#### [függvény feladatok](#func)\n",
    "#### [plusz feladatok](#plusz)"
   ]
  },
  {
   "cell_type": "markdown",
   "metadata": {},
   "source": [
    "------"
   ]
  },
  {
   "cell_type": "markdown",
   "metadata": {},
   "source": [
    "### package-ek és adat importálása <a id=\"import\">"
   ]
  },
  {
   "cell_type": "code",
   "execution_count": 144,
   "metadata": {},
   "outputs": [],
   "source": [
    "import numpy as np\n",
    "import pandas as pd\n",
    "\n",
    "from matplotlib import pyplot as plt\n",
    "\n",
    "import glob\n",
    "import json\n",
    "from tqdm import tqdm_notebook as tqdm"
   ]
  },
  {
   "cell_type": "code",
   "execution_count": 2,
   "metadata": {},
   "outputs": [],
   "source": [
    "message_files = sorted(glob.glob(\"data/*-msg.json\"))"
   ]
  },
  {
   "cell_type": "code",
   "execution_count": 3,
   "metadata": {},
   "outputs": [
    {
     "data": {
      "text/plain": [
       "['data/2010-msg.json',\n",
       " 'data/2011-msg.json',\n",
       " 'data/2012-msg.json',\n",
       " 'data/2013-msg.json',\n",
       " 'data/2014-msg.json',\n",
       " 'data/2015-msg.json',\n",
       " 'data/2016-msg.json',\n",
       " 'data/2017-msg.json',\n",
       " 'data/2018-msg.json',\n",
       " 'data/2019-msg.json',\n",
       " 'data/2020-msg.json']"
      ]
     },
     "execution_count": 3,
     "metadata": {},
     "output_type": "execute_result"
    }
   ],
   "source": [
    "message_files"
   ]
  },
  {
   "cell_type": "code",
   "execution_count": 4,
   "metadata": {},
   "outputs": [],
   "source": [
    "def get_data(path):\n",
    "\n",
    "    with open(path, \"r\") as fp:\n",
    "        file = json.load(fp)\n",
    "\n",
    "    return file"
   ]
  },
  {
   "cell_type": "code",
   "execution_count": 5,
   "metadata": {},
   "outputs": [],
   "source": [
    "data = pd.concat([pd.DataFrame(get_data(f)) for f in message_files]).reset_index(\n",
    "    drop=True\n",
    ")"
   ]
  },
  {
   "cell_type": "code",
   "execution_count": 6,
   "metadata": {
    "scrolled": true
   },
   "outputs": [
    {
     "data": {
      "text/html": [
       "<div>\n",
       "<style scoped>\n",
       "    .dataframe tbody tr th:only-of-type {\n",
       "        vertical-align: middle;\n",
       "    }\n",
       "\n",
       "    .dataframe tbody tr th {\n",
       "        vertical-align: top;\n",
       "    }\n",
       "\n",
       "    .dataframe thead th {\n",
       "        text-align: right;\n",
       "    }\n",
       "</style>\n",
       "<table border=\"1\" class=\"dataframe\">\n",
       "  <thead>\n",
       "    <tr style=\"text-align: right;\">\n",
       "      <th></th>\n",
       "      <th>index</th>\n",
       "      <th>sender_name</th>\n",
       "      <th>timestamp_ms</th>\n",
       "      <th>type</th>\n",
       "      <th>thread_path</th>\n",
       "      <th>thread_type</th>\n",
       "      <th>reactions</th>\n",
       "      <th>sticker</th>\n",
       "      <th>ip</th>\n",
       "      <th>photos</th>\n",
       "      <th>users</th>\n",
       "      <th>gifs</th>\n",
       "      <th>videos</th>\n",
       "      <th>content_l</th>\n",
       "      <th>datetime</th>\n",
       "      <th>year</th>\n",
       "      <th>month</th>\n",
       "      <th>day</th>\n",
       "      <th>hour</th>\n",
       "      <th>minute</th>\n",
       "    </tr>\n",
       "  </thead>\n",
       "  <tbody>\n",
       "    <tr>\n",
       "      <td>0</td>\n",
       "      <td>1797</td>\n",
       "      <td>Colin Firth</td>\n",
       "      <td>1289492566000</td>\n",
       "      <td>Generic</td>\n",
       "      <td>622</td>\n",
       "      <td>Regular</td>\n",
       "      <td>[]</td>\n",
       "      <td>None</td>\n",
       "      <td>None</td>\n",
       "      <td>0</td>\n",
       "      <td>[]</td>\n",
       "      <td>0</td>\n",
       "      <td>0</td>\n",
       "      <td>8</td>\n",
       "      <td>2010-11-11T17:22:46.000Z</td>\n",
       "      <td>2010</td>\n",
       "      <td>11</td>\n",
       "      <td>11</td>\n",
       "      <td>17</td>\n",
       "      <td>22</td>\n",
       "    </tr>\n",
       "    <tr>\n",
       "      <td>1</td>\n",
       "      <td>1791</td>\n",
       "      <td>Colin Firth</td>\n",
       "      <td>1290522692000</td>\n",
       "      <td>Generic</td>\n",
       "      <td>622</td>\n",
       "      <td>Regular</td>\n",
       "      <td>[]</td>\n",
       "      <td>None</td>\n",
       "      <td>None</td>\n",
       "      <td>0</td>\n",
       "      <td>[]</td>\n",
       "      <td>0</td>\n",
       "      <td>0</td>\n",
       "      <td>84</td>\n",
       "      <td>2010-11-23T15:31:32.000Z</td>\n",
       "      <td>2010</td>\n",
       "      <td>11</td>\n",
       "      <td>23</td>\n",
       "      <td>15</td>\n",
       "      <td>31</td>\n",
       "    </tr>\n",
       "    <tr>\n",
       "      <td>2</td>\n",
       "      <td>76</td>\n",
       "      <td>Ronald Colman</td>\n",
       "      <td>1290789430000</td>\n",
       "      <td>Generic</td>\n",
       "      <td>809</td>\n",
       "      <td>Regular</td>\n",
       "      <td>[]</td>\n",
       "      <td>None</td>\n",
       "      <td>None</td>\n",
       "      <td>0</td>\n",
       "      <td>[]</td>\n",
       "      <td>0</td>\n",
       "      <td>0</td>\n",
       "      <td>1626</td>\n",
       "      <td>2010-11-26T17:37:10.000Z</td>\n",
       "      <td>2010</td>\n",
       "      <td>11</td>\n",
       "      <td>26</td>\n",
       "      <td>17</td>\n",
       "      <td>37</td>\n",
       "    </tr>\n",
       "    <tr>\n",
       "      <td>3</td>\n",
       "      <td>1</td>\n",
       "      <td>Barbra Streisand</td>\n",
       "      <td>1284905757000</td>\n",
       "      <td>Generic</td>\n",
       "      <td>29</td>\n",
       "      <td>RegularGroup</td>\n",
       "      <td>[]</td>\n",
       "      <td>None</td>\n",
       "      <td>None</td>\n",
       "      <td>0</td>\n",
       "      <td>[]</td>\n",
       "      <td>0</td>\n",
       "      <td>0</td>\n",
       "      <td>1323</td>\n",
       "      <td>2010-09-19T16:15:57.000Z</td>\n",
       "      <td>2010</td>\n",
       "      <td>9</td>\n",
       "      <td>19</td>\n",
       "      <td>16</td>\n",
       "      <td>15</td>\n",
       "    </tr>\n",
       "    <tr>\n",
       "      <td>4</td>\n",
       "      <td>19</td>\n",
       "      <td>Colin Firth</td>\n",
       "      <td>1293100456000</td>\n",
       "      <td>Generic</td>\n",
       "      <td>237</td>\n",
       "      <td>RegularGroup</td>\n",
       "      <td>[]</td>\n",
       "      <td>None</td>\n",
       "      <td>None</td>\n",
       "      <td>0</td>\n",
       "      <td>[]</td>\n",
       "      <td>0</td>\n",
       "      <td>0</td>\n",
       "      <td>57</td>\n",
       "      <td>2010-12-23T11:34:16.000Z</td>\n",
       "      <td>2010</td>\n",
       "      <td>12</td>\n",
       "      <td>23</td>\n",
       "      <td>11</td>\n",
       "      <td>34</td>\n",
       "    </tr>\n",
       "  </tbody>\n",
       "</table>\n",
       "</div>"
      ],
      "text/plain": [
       "   index       sender_name   timestamp_ms     type  thread_path   thread_type  \\\n",
       "0   1797       Colin Firth  1289492566000  Generic          622       Regular   \n",
       "1   1791       Colin Firth  1290522692000  Generic          622       Regular   \n",
       "2     76     Ronald Colman  1290789430000  Generic          809       Regular   \n",
       "3      1  Barbra Streisand  1284905757000  Generic           29  RegularGroup   \n",
       "4     19       Colin Firth  1293100456000  Generic          237  RegularGroup   \n",
       "\n",
       "  reactions sticker    ip  photos users  gifs  videos  content_l  \\\n",
       "0        []    None  None       0    []     0       0          8   \n",
       "1        []    None  None       0    []     0       0         84   \n",
       "2        []    None  None       0    []     0       0       1626   \n",
       "3        []    None  None       0    []     0       0       1323   \n",
       "4        []    None  None       0    []     0       0         57   \n",
       "\n",
       "                   datetime  year  month  day  hour  minute  \n",
       "0  2010-11-11T17:22:46.000Z  2010     11   11    17      22  \n",
       "1  2010-11-23T15:31:32.000Z  2010     11   23    15      31  \n",
       "2  2010-11-26T17:37:10.000Z  2010     11   26    17      37  \n",
       "3  2010-09-19T16:15:57.000Z  2010      9   19    16      15  \n",
       "4  2010-12-23T11:34:16.000Z  2010     12   23    11      34  "
      ]
     },
     "execution_count": 6,
     "metadata": {},
     "output_type": "execute_result"
    }
   ],
   "source": [
    "data.head(5)"
   ]
  },
  {
   "cell_type": "markdown",
   "metadata": {},
   "source": [
    "-----"
   ]
  },
  {
   "cell_type": "markdown",
   "metadata": {},
   "source": [
    "#### [vissza](#top)"
   ]
  },
  {
   "cell_type": "markdown",
   "metadata": {},
   "source": [
    "### explore feladatok <a id=\"exp\">"
   ]
  },
  {
   "cell_type": "code",
   "execution_count": 9,
   "metadata": {},
   "outputs": [],
   "source": [
    "def sort_argmax(series, ascending=False, top_n=1):\n",
    "    \n",
    "    if top_n == 1:\n",
    "        \n",
    "        if ascending:\n",
    "            \n",
    "            return series.loc[lambda s: s == series.min()].sort_index().index[0]\n",
    "        \n",
    "        return series.loc[lambda s: s == series.max()].sort_index().index[0]\n",
    "\n",
    "    top_values = series.sort_values(ascending=ascending).unique()[:top_n]\n",
    "    \n",
    "    return (np.concatenate([series\n",
    "            .loc[lambda s: s == t]\n",
    "            .sort_index()\n",
    "            .index.tolist()\n",
    "            for t in top_values])[:top_n])"
   ]
  },
  {
   "cell_type": "code",
   "execution_count": 10,
   "metadata": {},
   "outputs": [],
   "source": [
    "def generic(df, g=True):\n",
    "    \n",
    "    if g:\n",
    "        return df.loc[df[\"type\"] == \"Generic\"]\n",
    "    \n",
    "    return df"
   ]
  },
  {
   "cell_type": "code",
   "execution_count": 11,
   "metadata": {},
   "outputs": [],
   "source": [
    "setattr(pd.core.series.Series, \"sort_argmax\", sort_argmax)"
   ]
  },
  {
   "cell_type": "code",
   "execution_count": 12,
   "metadata": {},
   "outputs": [],
   "source": [
    "setattr(pd.core.frame.DataFrame, \"generic\", generic)"
   ]
  },
  {
   "cell_type": "markdown",
   "metadata": {},
   "source": [
    "1. Mi Hanga álneve? (1 pont)"
   ]
  },
  {
   "cell_type": "code",
   "execution_count": 68,
   "metadata": {},
   "outputs": [],
   "source": [
    "hanga = data[\"sender_name\"].value_counts().idxmax()"
   ]
  },
  {
   "cell_type": "code",
   "execution_count": 69,
   "metadata": {},
   "outputs": [
    {
     "data": {
      "text/plain": [
       "'Colin Firth'"
      ]
     },
     "execution_count": 69,
     "metadata": {},
     "output_type": "execute_result"
    }
   ],
   "source": [
    "hanga"
   ]
  },
  {
   "cell_type": "markdown",
   "metadata": {},
   "source": [
    "2. Mi a jeszk-moments azonosítója? (2 pont)"
   ]
  },
  {
   "cell_type": "code",
   "execution_count": 15,
   "metadata": {},
   "outputs": [],
   "source": [
    "jeszk = (\n",
    "    data.groupby(\"thread_path\").apply(lambda df: df[\"sender_name\"].nunique()).idxmax()\n",
    ")"
   ]
  },
  {
   "cell_type": "code",
   "execution_count": 16,
   "metadata": {},
   "outputs": [
    {
     "data": {
      "text/plain": [
       "494"
      ]
     },
     "execution_count": 16,
     "metadata": {},
     "output_type": "execute_result"
    }
   ],
   "source": [
    "jeszk"
   ]
  },
  {
   "cell_type": "markdown",
   "metadata": {},
   "source": [
    "3. Ki írja átlagosan a leghosszabb üzeneteket? (2 pont)"
   ]
  },
  {
   "cell_type": "code",
   "execution_count": 259,
   "metadata": {},
   "outputs": [
    {
     "data": {
      "text/plain": [
       "array(['Hugh Jackman', 'James Bond ', 'Stanley Tucci', 'Sophia Loren',\n",
       "       'Barry Fitzgerald'], dtype='<U16')"
      ]
     },
     "execution_count": 259,
     "metadata": {},
     "output_type": "execute_result"
    }
   ],
   "source": [
    "data.generic().groupby(\"sender_name\").mean()[\n",
    "    \"content_l\"\n",
    "].sort_argmax(top_n=5)"
   ]
  },
  {
   "cell_type": "code",
   "execution_count": 18,
   "metadata": {
    "scrolled": true
   },
   "outputs": [
    {
     "data": {
      "text/plain": [
       "array(['Hugh Jackman', 'Mickey Mouse', 'James Bond ', 'Stanley Tucci',\n",
       "       'Sophia Loren'], dtype='<U13')"
      ]
     },
     "execution_count": 18,
     "metadata": {},
     "output_type": "execute_result"
    }
   ],
   "source": [
    "# genericre szűrés nélkül\n",
    "data.groupby(\"sender_name\").mean()[\n",
    "    \"content_l\"\n",
    "].sort_argmax(top_n=5)"
   ]
  },
  {
   "cell_type": "markdown",
   "metadata": {},
   "source": [
    "4.A Ki iratkoztatott le legtöbbször a jeszk momentsből (2 pont)"
   ]
  },
  {
   "cell_type": "code",
   "execution_count": 266,
   "metadata": {
    "scrolled": true
   },
   "outputs": [
    {
     "data": {
      "text/plain": [
       "array(['John Malkovich', 'Mahershala Ali', 'Batman', 'Chris Cooper',\n",
       "       'Denzel Washington'], dtype='<U18')"
      ]
     },
     "execution_count": 266,
     "metadata": {},
     "output_type": "execute_result"
    }
   ],
   "source": [
    "data.loc[data[\"thread_path\"] == jeszk].pipe(\n",
    "    lambda df: df.loc[df[\"type\"] == \"Unsubscribe\"]\n",
    ").groupby(\"sender_name\")[\"index\"].count().sort_argmax(top_n=5)"
   ]
  },
  {
   "cell_type": "markdown",
   "metadata": {},
   "source": [
    "4.B Kit iratkoztattak le legtöbbször a jeszk momentsből (2 pont)"
   ]
  },
  {
   "cell_type": "code",
   "execution_count": 326,
   "metadata": {
    "scrolled": true
   },
   "outputs": [
    {
     "data": {
      "text/plain": [
       "array(['Chris Cooper', 'John Malkovich', 'Mahershala Ali',\n",
       "       'Denzel Washington', 'Dorothy Malone'], dtype='<U18')"
      ]
     },
     "execution_count": 326,
     "metadata": {},
     "output_type": "execute_result"
    }
   ],
   "source": [
    "pd.Series(data.loc[(data[\"thread_path\"] == jeszk) & (data[\"type\"] == \"Unsubscribe\"),\n",
    "                   \"users\"].sum()).value_counts().sort_argmax(top_n=5)"
   ]
  },
  {
   "cell_type": "markdown",
   "metadata": {},
   "source": [
    "5. Ki küldte legtöbb képet a jeszk momentsbe? (2 pont)"
   ]
  },
  {
   "cell_type": "code",
   "execution_count": 269,
   "metadata": {},
   "outputs": [
    {
     "data": {
      "text/plain": [
       "array(['Judy Holliday', 'Olivia de Havilland', 'Michael Douglas',\n",
       "       'Naomi Watts', 'Holly Golightly '], dtype='<U19')"
      ]
     },
     "execution_count": 269,
     "metadata": {},
     "output_type": "execute_result"
    }
   ],
   "source": [
    "data.loc[data[\"thread_path\"] == jeszk].groupby(\n",
    "    \"sender_name\")[\"photos\"].sum().sort_argmax(top_n=5)"
   ]
  },
  {
   "cell_type": "markdown",
   "metadata": {},
   "source": [
    "6. Hányan vannak, akik minden évben küldtek üzenetet? (3 pont)"
   ]
  },
  {
   "cell_type": "code",
   "execution_count": 21,
   "metadata": {},
   "outputs": [
    {
     "data": {
      "text/plain": [
       "3"
      ]
     },
     "execution_count": 21,
     "metadata": {},
     "output_type": "execute_result"
    }
   ],
   "source": [
    "data.generic().groupby(\"sender_name\").apply(\n",
    "    lambda df: df[\"year\"].nunique()\n",
    ").loc[lambda s: s == data[\"year\"].nunique()].shape[0]"
   ]
  },
  {
   "cell_type": "code",
   "execution_count": 22,
   "metadata": {},
   "outputs": [
    {
     "data": {
      "text/plain": [
       "3"
      ]
     },
     "execution_count": 22,
     "metadata": {},
     "output_type": "execute_result"
    }
   ],
   "source": [
    "# genericre szűrés nélkül\n",
    "data.groupby(\"sender_name\").apply(lambda df: df[\"year\"].nunique()).loc[\n",
    "    lambda s: s == data[\"year\"].nunique()\n",
    "].shape[0]"
   ]
  },
  {
   "cell_type": "markdown",
   "metadata": {},
   "source": [
    "7. Hányan vannak, akik pontosan n évben küldtek üzenetet ($ n = 1, ... 11 $) (2 pont, ábrázolásért +1)"
   ]
  },
  {
   "cell_type": "code",
   "execution_count": 23,
   "metadata": {},
   "outputs": [],
   "source": [
    "n_years = (\n",
    "    (\n",
    "        pd.DataFrame(\n",
    "            data.generic()\n",
    "            .groupby(\"sender_name\")\n",
    "            .apply(lambda df: df[\"year\"].nunique())\n",
    "        )\n",
    "        .reset_index()\n",
    "        .rename(columns={0: \"active years\", \"sender_name\": \"n_people\"})\n",
    "        .groupby(\"active years\")\n",
    "        .count()\n",
    "    )\n",
    "    .merge(\n",
    "        pd.DataFrame(\n",
    "            {\"active years\": np.arange(1, data[\"year\"].nunique() + 1)}\n",
    "        ).set_index(\"active years\"),\n",
    "        left_index=True,\n",
    "        right_index=True,\n",
    "        how=\"right\",\n",
    "    )\n",
    "    .fillna(0)\n",
    ").assign(n_people=lambda df: df[\"n_people\"].astype(int))"
   ]
  },
  {
   "cell_type": "code",
   "execution_count": 24,
   "metadata": {},
   "outputs": [
    {
     "data": {
      "image/png": "[encoded data removed]",
      "text/plain": [
       "<Figure size 720x360 with 1 Axes>"
      ]
     },
     "metadata": {
      "needs_background": "light"
     },
     "output_type": "display_data"
    }
   ],
   "source": [
    "fig = plt.figure(figsize=(10, 5))\n",
    "plt.bar(\n",
    "    n_years.index.tolist(),\n",
    "    n_years[\"n_people\"].values,\n",
    "    facecolor=\"orange\",\n",
    "    edgecolor=\"black\",\n",
    ")\n",
    "plt.xlabel(\"active years\", fontsize=\"large\")\n",
    "plt.ylabel(\"number of people\", fontsize=\"large\")\n",
    "plt.show()"
   ]
  },
  {
   "cell_type": "code",
   "execution_count": 25,
   "metadata": {},
   "outputs": [],
   "source": [
    "# genericre szűrés nélkül\n",
    "n_years_2 = (\n",
    "    (\n",
    "        pd.DataFrame(data\n",
    "                     .groupby(\"sender_name\")\n",
    "                     .apply(lambda df: df[\"year\"].nunique())\n",
    "                    )\n",
    "        .reset_index()\n",
    "        .rename(columns={0: \"active years\", \"sender_name\": \"n_people\"})\n",
    "        .groupby(\"active years\")\n",
    "        .count()\n",
    "    )\n",
    "    .merge(\n",
    "        pd.DataFrame(\n",
    "            {\"active years\": np.arange(1, data[\"year\"].nunique() + 1)}\n",
    "        ).set_index(\"active years\"),\n",
    "        left_index=True,\n",
    "        right_index=True,\n",
    "        how=\"right\",\n",
    "    )\n",
    "    .fillna(0)\n",
    ").assign(n_people=lambda df: df[\"n_people\"].astype(int))"
   ]
  },
  {
   "cell_type": "code",
   "execution_count": 26,
   "metadata": {},
   "outputs": [
    {
     "data": {
      "image/png": "[encoded data removed]",
      "text/plain": [
       "<Figure size 720x360 with 1 Axes>"
      ]
     },
     "metadata": {
      "needs_background": "light"
     },
     "output_type": "display_data"
    }
   ],
   "source": [
    "fig = plt.figure(figsize=(10, 5))\n",
    "plt.bar(\n",
    "    n_years_2.index.tolist(),\n",
    "    n_years_2[\"n_people\"].values,\n",
    "    facecolor=\"orange\",\n",
    "    edgecolor=\"black\",\n",
    ")\n",
    "plt.xlabel(\"active years\", fontsize=\"large\")\n",
    "plt.ylabel(\"number of people\", fontsize=\"large\")\n",
    "plt.show()"
   ]
  },
  {
   "cell_type": "markdown",
   "metadata": {},
   "source": [
    "8. Ki van bent a második legtöbb csetben? (3 pont)"
   ]
  },
  {
   "cell_type": "code",
   "execution_count": 235,
   "metadata": {},
   "outputs": [],
   "source": [
    "def set_of_users(df):\n",
    "    \n",
    "    return list(set(df[\"sender_name\"])\n",
    "                | set(sum(df[\"users\"], []))\n",
    "                | set(sum(df[\"reactions\"], []))\n",
    "                | {hanga})"
   ]
  },
  {
   "cell_type": "code",
   "execution_count": 236,
   "metadata": {},
   "outputs": [],
   "source": [
    "memberships = pd.DataFrame(data.groupby(\"thread_path\").apply(\n",
    "    set_of_users)).rename(columns={0: \"members\"}).assign(\n",
    "    n_members=lambda df: df[\"members\"].apply(lambda l: len(l)))"
   ]
  },
  {
   "cell_type": "code",
   "execution_count": 272,
   "metadata": {},
   "outputs": [
    {
     "data": {
      "text/plain": [
       "array(['Mary J. Blige', 'Juliette Lewis', 'Tilda Swinton', 'James Coburn',\n",
       "       'Lucas Hedges'], dtype='<U14')"
      ]
     },
     "execution_count": 272,
     "metadata": {},
     "output_type": "execute_result"
    }
   ],
   "source": [
    "pd.Series(sum(memberships[\"members\"], [])).value_counts()[1:].sort_argmax(top_n=5)"
   ]
  },
  {
   "cell_type": "markdown",
   "metadata": {},
   "source": [
    "9. Melyik a 2019-es db-cset? (akkor volt Hanga DB-tag) (5 pont)"
   ]
  },
  {
   "cell_type": "code",
   "execution_count": 28,
   "metadata": {},
   "outputs": [],
   "source": [
    "db = (\n",
    "    data.loc[data[\"year\"] == 2019]\n",
    "    .groupby(\"thread_path\")\n",
    "    .agg({\"sender_name\": [\"nunique\", \"count\"]})\n",
    "    .loc[lambda df: df.loc[:, (\"sender_name\", \"nunique\")] == 13]\n",
    "    .loc[:, (\"sender_name\", \"count\")]\n",
    "    .idxmax()\n",
    ")"
   ]
  },
  {
   "cell_type": "code",
   "execution_count": 29,
   "metadata": {
    "scrolled": true
   },
   "outputs": [
    {
     "data": {
      "text/plain": [
       "797"
      ]
     },
     "execution_count": 29,
     "metadata": {},
     "output_type": "execute_result"
    }
   ],
   "source": [
    "db"
   ]
  },
  {
   "cell_type": "markdown",
   "metadata": {},
   "source": [
    "10. Ki írta a legkevesebb üzenetet a 2019-es db-chatbe? (3 pont)"
   ]
  },
  {
   "cell_type": "code",
   "execution_count": 281,
   "metadata": {},
   "outputs": [
    {
     "data": {
      "text/plain": [
       "array(['Don Cheadle', 'Atticus Finch', 'Ray Milland', 'Glenn Close',\n",
       "       'Adriana Barraza'], dtype='<U15')"
      ]
     },
     "execution_count": 281,
     "metadata": {},
     "output_type": "execute_result"
    }
   ],
   "source": [
    "data.loc[data[\"thread_path\"] == db].generic(\n",
    ").groupby(\"sender_name\")[\"index\"].count().sort_argmax(ascending=True, top_n=5)"
   ]
  },
  {
   "cell_type": "code",
   "execution_count": 31,
   "metadata": {},
   "outputs": [
    {
     "data": {
      "text/plain": [
       "array(['Don Cheadle', 'Atticus Finch', 'Ray Milland', 'Glenn Close',\n",
       "       'Adriana Barraza'], dtype='<U15')"
      ]
     },
     "execution_count": 31,
     "metadata": {},
     "output_type": "execute_result"
    }
   ],
   "source": [
    "# genericre szűrés nélkül\n",
    "data.loc[data[\"thread_path\"] == db].groupby(\"sender_name\")[\"index\"].count().sort_argmax(\n",
    "    ascending=True, top_n=5\n",
    ")"
   ]
  },
  {
   "cell_type": "markdown",
   "metadata": {},
   "source": [
    "11. Melyik az a cset, ahol a legtöbb idő telt el két ÜZENET között, és mennyi ez az idő? (4 pont)"
   ]
  },
  {
   "cell_type": "code",
   "execution_count": 283,
   "metadata": {},
   "outputs": [
    {
     "data": {
      "text/plain": [
       "thread_path\n",
       "865    1685.53 days\n",
       "190    1460.94 days\n",
       "267    1414.96 days\n",
       "618    1337.65 days\n",
       "300    1110.68 days\n",
       "dtype: object"
      ]
     },
     "execution_count": 283,
     "metadata": {},
     "output_type": "execute_result"
    }
   ],
   "source": [
    "data.generic().groupby(\"thread_path\").apply(\n",
    "    lambda df: df[\"timestamp_ms\"].sort_values().diff().max()\n",
    ").fillna(0).sort_values(ascending=False)[:5].apply(\n",
    "    lambda s: f\"{round(s / (1000 * 60 ** 2 * 24), 2)} days\")"
   ]
  },
  {
   "cell_type": "code",
   "execution_count": 33,
   "metadata": {},
   "outputs": [
    {
     "data": {
      "text/plain": [
       "thread_path\n",
       "603     2609.7 days\n",
       "865    1685.53 days\n",
       "190    1460.94 days\n",
       "267    1414.96 days\n",
       "585    1402.62 days\n",
       "dtype: object"
      ]
     },
     "execution_count": 33,
     "metadata": {},
     "output_type": "execute_result"
    }
   ],
   "source": [
    "# genericre szűrés nélkül\n",
    "data.groupby(\"thread_path\").apply(\n",
    "    lambda df: df[\"timestamp_ms\"].sort_values().diff().max()\n",
    ").fillna(0).sort_values(ascending=False)[:5].apply(\n",
    "    lambda s: f\"{round(s / (1000 * 60 ** 2 * 24), 2)} days\")"
   ]
  },
  {
   "cell_type": "markdown",
   "metadata": {},
   "source": [
    "12. Hány emberrel beszél Hanga 2015 óta minden évben, és hánnyal 2016 óta minden évben (rajkba kerülésének éve óta), és ez alapján kik a rajkosok ebből a listából? (4 pont)"
   ]
  },
  {
   "cell_type": "code",
   "execution_count": 34,
   "metadata": {},
   "outputs": [],
   "source": [
    "df = (\n",
    "    pd.DataFrame(\n",
    "        data.groupby(\"sender_name\").apply(lambda df: df[\"year\"].sort_values().unique())\n",
    "    )[0]\n",
    "    .apply(lambda l: pd.Series(1, index=l))\n",
    "    .fillna(0)\n",
    "    .pipe(lambda df: df.rename(columns={c: str(c) for c in df.columns}))\n",
    ").assign(\n",
    "        from_2015=lambda df: df.apply(\n",
    "            lambda r: bool(r[np.arange(2015, 2021).astype(str)].all()), axis=1),\n",
    "        from_2016=lambda df: df.apply(\n",
    "            lambda r: bool(r[np.arange(2016, 2021).astype(str)].all()), axis=1)\n",
    "    )"
   ]
  },
  {
   "cell_type": "code",
   "execution_count": 35,
   "metadata": {},
   "outputs": [
    {
     "data": {
      "text/plain": [
       "from_2015     8\n",
       "from_2016    56\n",
       "dtype: int64"
      ]
     },
     "execution_count": 35,
     "metadata": {},
     "output_type": "execute_result"
    }
   ],
   "source": [
    "df.iloc[:, -2:].sum()"
   ]
  },
  {
   "cell_type": "code",
   "execution_count": 36,
   "metadata": {
    "scrolled": true
   },
   "outputs": [
    {
     "data": {
      "text/plain": [
       "['Abigail Breslin',\n",
       " 'Bette Midler',\n",
       " 'Billy Bob Thornton',\n",
       " 'Casey Affleck',\n",
       " 'Charles Laughton',\n",
       " 'Chris Cooper',\n",
       " 'Denzel Washington',\n",
       " 'Don Ameche',\n",
       " 'Ed Harris',\n",
       " 'Ed Sheeran',\n",
       " 'Floyd Mayweather, Jr.',\n",
       " 'Gale Sondergaard',\n",
       " 'Gary Sinise',\n",
       " 'George Arliss',\n",
       " 'George Burns',\n",
       " 'George Lucas',\n",
       " 'Grace Kelly',\n",
       " 'Gwyneth Paltrow',\n",
       " 'Hattie McDaniel',\n",
       " 'Holly Golightly ',\n",
       " 'James Coburn',\n",
       " 'Jared Leto',\n",
       " 'Jeff Bridges',\n",
       " 'Joan Fontaine',\n",
       " 'Joanne Woodward',\n",
       " 'Judy Holliday',\n",
       " 'Kate Winslet',\n",
       " 'Kathleen Quinlan',\n",
       " 'Katy Perry',\n",
       " 'King Kong',\n",
       " 'Lee Grant',\n",
       " 'Leonardo DiCaprio',\n",
       " 'Liza Minnelli',\n",
       " 'Loretta Young',\n",
       " 'Lucas Hedges',\n",
       " 'Lynn Redgrave',\n",
       " 'Marcia Gay Harden',\n",
       " 'Mary J. Blige',\n",
       " 'Mercedes Ruehl',\n",
       " 'Meryl Streep',\n",
       " 'Michael Douglas',\n",
       " 'Miranda Richardson',\n",
       " 'Naomi Watts',\n",
       " 'Nicolas Cage',\n",
       " 'Paul Newman',\n",
       " 'Scarlett Johansson',\n",
       " 'Teresa Wright',\n",
       " 'Tom Wilkinson']"
      ]
     },
     "execution_count": 36,
     "metadata": {},
     "output_type": "execute_result"
    }
   ],
   "source": [
    "df.loc[~df[\"from_2015\"] & df[\"from_2016\"]].index.tolist()"
   ]
  },
  {
   "cell_type": "markdown",
   "metadata": {},
   "source": [
    "13. Ki érte el a legtöbb átlagos reakciót a jeszk momentsben? (4 pont)"
   ]
  },
  {
   "cell_type": "code",
   "execution_count": 289,
   "metadata": {},
   "outputs": [
    {
     "data": {
      "text/plain": [
       "array(['Ginger Rogers', 'Kevin Kline', 'Jessica Chastain',\n",
       "       'Sylvester Stallone', 'Batman'], dtype='<U18')"
      ]
     },
     "execution_count": 289,
     "metadata": {},
     "output_type": "execute_result"
    }
   ],
   "source": [
    "data.loc[data[\"thread_path\"] == jeszk].groupby(\"sender_name\").apply(\n",
    "    lambda df: df[\"reactions\"].apply(lambda x: len(x)).mean()\n",
    ").sort_argmax(top_n=5)"
   ]
  },
  {
   "cell_type": "markdown",
   "metadata": {},
   "source": [
    "-----"
   ]
  },
  {
   "cell_type": "markdown",
   "metadata": {},
   "source": [
    "#### [vissza](#top)"
   ]
  },
  {
   "cell_type": "markdown",
   "metadata": {},
   "source": [
    "### függvény feladatok <a id=\"func\">"
   ]
  },
  {
   "cell_type": "markdown",
   "metadata": {},
   "source": [
    "14. Megadok egy timestamp-et, ki az eddig az időpontig írt leghosszabb üzenet szerzője? (1 pont)"
   ]
  },
  {
   "cell_type": "code",
   "execution_count": 295,
   "metadata": {},
   "outputs": [],
   "source": [
    "def longest_mess(timestamp=1293114321000, g=True, top_n=1):\n",
    "    \n",
    "    return data.loc[data[\"timestamp_ms\"] <= timestamp].generic(g).set_index(\n",
    "        \"sender_name\")[\"content_l\"].sort_argmax(top_n=top_n)"
   ]
  },
  {
   "cell_type": "code",
   "execution_count": 296,
   "metadata": {
    "scrolled": true
   },
   "outputs": [
    {
     "data": {
      "text/plain": [
       "array(['Colin Firth', 'Ruby Dee', 'The Tramp ', 'Colin Firth', 'Ruby Dee'],\n",
       "      dtype='<U13')"
      ]
     },
     "execution_count": 296,
     "metadata": {},
     "output_type": "execute_result"
    }
   ],
   "source": [
    "longest_mess(top_n=5)"
   ]
  },
  {
   "cell_type": "code",
   "execution_count": 292,
   "metadata": {
    "scrolled": true
   },
   "outputs": [
    {
     "data": {
      "text/plain": [
       "array(['Colin Firth', 'Ruby Dee', 'The Tramp ', 'Colin Firth', 'Ruby Dee'],\n",
       "      dtype='<U13')"
      ]
     },
     "execution_count": 292,
     "metadata": {},
     "output_type": "execute_result"
    }
   ],
   "source": [
    "# genericre szűrés nélkül\n",
    "longest_mess(g=False, top_n=5)"
   ]
  },
  {
   "cell_type": "markdown",
   "metadata": {},
   "source": [
    "15. Megadok egy timestamp-et, melyik óra eddig az időpontig a legkevésbé aktív, amiben legalább egy interakció lezajlott? (tehát nem 0 az aktivitás) (1 pont)"
   ]
  },
  {
   "cell_type": "code",
   "execution_count": 186,
   "metadata": {},
   "outputs": [],
   "source": [
    "def inactive_hour(timestamp=1293114321000, top_n=1):\n",
    "\n",
    "    return (\n",
    "        data.loc[data[\"timestamp_ms\"] <= timestamp]\n",
    "        .groupby(\"hour\")[\"index\"]\n",
    "        .count()\n",
    "        .sort_argmax(ascending=True, top_n=top_n)\n",
    "    )"
   ]
  },
  {
   "cell_type": "code",
   "execution_count": 187,
   "metadata": {},
   "outputs": [
    {
     "data": {
      "text/plain": [
       "array([ 9, 23, 12, 22, 14])"
      ]
     },
     "execution_count": 187,
     "metadata": {},
     "output_type": "execute_result"
    }
   ],
   "source": [
    "inactive_hour(top_n=5)"
   ]
  },
  {
   "cell_type": "markdown",
   "metadata": {},
   "source": [
    "16. Megadok egy timestamp-et és egy embert, mondd meg, hány karaktert küldött eddig az időpontig (2 pont)"
   ]
  },
  {
   "cell_type": "code",
   "execution_count": 309,
   "metadata": {},
   "outputs": [],
   "source": [
    "def sent_chars(person, timestamp=1293114321000, g=True):\n",
    "\n",
    "    return (data.loc[(data[\"timestamp_ms\"] <= timestamp)\n",
    "                     & (data[\"sender_name\"] == person)]\n",
    "            .generic(g)[\"content_l\"].sum())"
   ]
  },
  {
   "cell_type": "code",
   "execution_count": 310,
   "metadata": {
    "scrolled": true
   },
   "outputs": [
    {
     "data": {
      "text/plain": [
       "4252"
      ]
     },
     "execution_count": 310,
     "metadata": {},
     "output_type": "execute_result"
    }
   ],
   "source": [
    "sent_chars(\"Juliette Lewis\")"
   ]
  },
  {
   "cell_type": "code",
   "execution_count": 306,
   "metadata": {},
   "outputs": [
    {
     "data": {
      "text/plain": [
       "4252"
      ]
     },
     "execution_count": 306,
     "metadata": {},
     "output_type": "execute_result"
    }
   ],
   "source": [
    "# genericre szűrés nélkül\n",
    "sent_chars(\"Juliette Lewis\", g=False)"
   ]
  },
  {
   "cell_type": "markdown",
   "metadata": {},
   "source": [
    "17. Megadok egy timestamp-et, hányan írtak eddig az időpontig legalább 10 üzenetet? (3 pont)"
   ]
  },
  {
   "cell_type": "code",
   "execution_count": 311,
   "metadata": {},
   "outputs": [],
   "source": [
    "def at_least_ten_mess(timestamp=1293114321000, g=True):\n",
    "\n",
    "    return (\n",
    "        data.loc[data[\"timestamp_ms\"] <= timestamp]\n",
    "        .generic(g)\n",
    "        .groupby(\"sender_name\")[\"index\"]\n",
    "        .count()\n",
    "        .loc[lambda s: s >= 10]\n",
    "        .shape[0]\n",
    "    )"
   ]
  },
  {
   "cell_type": "code",
   "execution_count": 312,
   "metadata": {
    "scrolled": false
   },
   "outputs": [
    {
     "data": {
      "text/plain": [
       "2"
      ]
     },
     "execution_count": 312,
     "metadata": {},
     "output_type": "execute_result"
    }
   ],
   "source": [
    "at_least_ten_mess()"
   ]
  },
  {
   "cell_type": "code",
   "execution_count": 313,
   "metadata": {
    "scrolled": true
   },
   "outputs": [
    {
     "data": {
      "text/plain": [
       "2"
      ]
     },
     "execution_count": 313,
     "metadata": {},
     "output_type": "execute_result"
    }
   ],
   "source": [
    "# genericre szűrés nélkül\n",
    "at_least_ten_mess(g=False)"
   ]
  },
  {
   "cell_type": "markdown",
   "metadata": {},
   "source": [
    "18. Megadok egy timestamp-et, melyik volt a top5 legaktívabb cset eddig az időpontig (4 pont)"
   ]
  },
  {
   "cell_type": "code",
   "execution_count": 49,
   "metadata": {},
   "outputs": [],
   "source": [
    "def top5_most_active(timestamp=1293114321000):\n",
    "\n",
    "    return (\n",
    "        data.loc[data[\"timestamp_ms\"] <= timestamp]\n",
    "        .groupby(\"thread_path\")[\"index\"]\n",
    "        .count()\n",
    "        .sort_argmax(top_n=5)\n",
    "    )"
   ]
  },
  {
   "cell_type": "code",
   "execution_count": 50,
   "metadata": {
    "scrolled": true
   },
   "outputs": [
    {
     "data": {
      "text/plain": [
       "array([ 32, 237, 622, 360, 546])"
      ]
     },
     "execution_count": 50,
     "metadata": {},
     "output_type": "execute_result"
    }
   ],
   "source": [
    "top5_most_active()"
   ]
  },
  {
   "cell_type": "markdown",
   "metadata": {},
   "source": [
    "19.1 Megadok egy timestamp-et és egy csetet (thread_id), összesen hány különböző ember írt, összesen hány üzenetet és hány karaktert írtak eddig az időpontig? (4 pont)"
   ]
  },
  {
   "cell_type": "code",
   "execution_count": 51,
   "metadata": {},
   "outputs": [],
   "source": [
    "def people_mess_chars(thread, timestamp=1293114321000, g=True):\n",
    "\n",
    "    return data.loc[\n",
    "        (data[\"timestamp_ms\"] <= timestamp)\n",
    "        & (data[\"thread_path\"] == thread)\n",
    "    ].generic(g).agg({\"sender_name\": \"nunique\", \"index\": \"count\", \"content_l\": \"sum\"})"
   ]
  },
  {
   "cell_type": "code",
   "execution_count": 52,
   "metadata": {
    "scrolled": true
   },
   "outputs": [
    {
     "data": {
      "text/plain": [
       "sender_name      5\n",
       "index           17\n",
       "content_l      930\n",
       "dtype: int64"
      ]
     },
     "execution_count": 52,
     "metadata": {},
     "output_type": "execute_result"
    }
   ],
   "source": [
    "people_mess_chars(237)"
   ]
  },
  {
   "cell_type": "code",
   "execution_count": 53,
   "metadata": {
    "scrolled": true
   },
   "outputs": [
    {
     "data": {
      "text/plain": [
       "sender_name      5\n",
       "index           17\n",
       "content_l      930\n",
       "dtype: int64"
      ]
     },
     "execution_count": 53,
     "metadata": {},
     "output_type": "execute_result"
    }
   ],
   "source": [
    "# genericre szűrés nélkül\n",
    "people_mess_chars(237, g=False)"
   ]
  },
  {
   "cell_type": "markdown",
   "metadata": {},
   "source": [
    "19.2 Emberenként csoportosítva hány üzenetet és hány karaktert küldtek? (+2 pont)"
   ]
  },
  {
   "cell_type": "code",
   "execution_count": 54,
   "metadata": {},
   "outputs": [],
   "source": [
    "def people_mess_chars_2(thread, timestamp=1293114321000, g=True):\n",
    "\n",
    "    return (\n",
    "        data.loc[\n",
    "            (data[\"timestamp_ms\"] <= timestamp)\n",
    "            & (data[\"thread_path\"] == thread)\n",
    "        ].generic(g)\n",
    "        .groupby(\"sender_name\")\n",
    "        .agg({\"content_l\": [\"count\", \"sum\"]})\n",
    "    )"
   ]
  },
  {
   "cell_type": "code",
   "execution_count": 55,
   "metadata": {},
   "outputs": [
    {
     "data": {
      "text/html": [
       "<div>\n",
       "<style scoped>\n",
       "    .dataframe tbody tr th:only-of-type {\n",
       "        vertical-align: middle;\n",
       "    }\n",
       "\n",
       "    .dataframe tbody tr th {\n",
       "        vertical-align: top;\n",
       "    }\n",
       "\n",
       "    .dataframe thead tr th {\n",
       "        text-align: left;\n",
       "    }\n",
       "\n",
       "    .dataframe thead tr:last-of-type th {\n",
       "        text-align: right;\n",
       "    }\n",
       "</style>\n",
       "<table border=\"1\" class=\"dataframe\">\n",
       "  <thead>\n",
       "    <tr>\n",
       "      <th></th>\n",
       "      <th colspan=\"2\" halign=\"left\">content_l</th>\n",
       "    </tr>\n",
       "    <tr>\n",
       "      <th></th>\n",
       "      <th>count</th>\n",
       "      <th>sum</th>\n",
       "    </tr>\n",
       "    <tr>\n",
       "      <th>sender_name</th>\n",
       "      <th></th>\n",
       "      <th></th>\n",
       "    </tr>\n",
       "  </thead>\n",
       "  <tbody>\n",
       "    <tr>\n",
       "      <td>Barbra Streisand</td>\n",
       "      <td>3</td>\n",
       "      <td>274</td>\n",
       "    </tr>\n",
       "    <tr>\n",
       "      <td>Colin Firth</td>\n",
       "      <td>3</td>\n",
       "      <td>126</td>\n",
       "    </tr>\n",
       "    <tr>\n",
       "      <td>Juliette Lewis</td>\n",
       "      <td>7</td>\n",
       "      <td>417</td>\n",
       "    </tr>\n",
       "    <tr>\n",
       "      <td>Ruby Dee</td>\n",
       "      <td>1</td>\n",
       "      <td>50</td>\n",
       "    </tr>\n",
       "    <tr>\n",
       "      <td>U2</td>\n",
       "      <td>3</td>\n",
       "      <td>63</td>\n",
       "    </tr>\n",
       "  </tbody>\n",
       "</table>\n",
       "</div>"
      ],
      "text/plain": [
       "                 content_l     \n",
       "                     count  sum\n",
       "sender_name                    \n",
       "Barbra Streisand         3  274\n",
       "Colin Firth              3  126\n",
       "Juliette Lewis           7  417\n",
       "Ruby Dee                 1   50\n",
       "U2                       3   63"
      ]
     },
     "execution_count": 55,
     "metadata": {},
     "output_type": "execute_result"
    }
   ],
   "source": [
    "people_mess_chars_2(237)"
   ]
  },
  {
   "cell_type": "code",
   "execution_count": 56,
   "metadata": {},
   "outputs": [
    {
     "data": {
      "text/html": [
       "<div>\n",
       "<style scoped>\n",
       "    .dataframe tbody tr th:only-of-type {\n",
       "        vertical-align: middle;\n",
       "    }\n",
       "\n",
       "    .dataframe tbody tr th {\n",
       "        vertical-align: top;\n",
       "    }\n",
       "\n",
       "    .dataframe thead tr th {\n",
       "        text-align: left;\n",
       "    }\n",
       "\n",
       "    .dataframe thead tr:last-of-type th {\n",
       "        text-align: right;\n",
       "    }\n",
       "</style>\n",
       "<table border=\"1\" class=\"dataframe\">\n",
       "  <thead>\n",
       "    <tr>\n",
       "      <th></th>\n",
       "      <th colspan=\"2\" halign=\"left\">content_l</th>\n",
       "    </tr>\n",
       "    <tr>\n",
       "      <th></th>\n",
       "      <th>count</th>\n",
       "      <th>sum</th>\n",
       "    </tr>\n",
       "    <tr>\n",
       "      <th>sender_name</th>\n",
       "      <th></th>\n",
       "      <th></th>\n",
       "    </tr>\n",
       "  </thead>\n",
       "  <tbody>\n",
       "    <tr>\n",
       "      <td>Barbra Streisand</td>\n",
       "      <td>3</td>\n",
       "      <td>274</td>\n",
       "    </tr>\n",
       "    <tr>\n",
       "      <td>Colin Firth</td>\n",
       "      <td>3</td>\n",
       "      <td>126</td>\n",
       "    </tr>\n",
       "    <tr>\n",
       "      <td>Juliette Lewis</td>\n",
       "      <td>7</td>\n",
       "      <td>417</td>\n",
       "    </tr>\n",
       "    <tr>\n",
       "      <td>Ruby Dee</td>\n",
       "      <td>1</td>\n",
       "      <td>50</td>\n",
       "    </tr>\n",
       "    <tr>\n",
       "      <td>U2</td>\n",
       "      <td>3</td>\n",
       "      <td>63</td>\n",
       "    </tr>\n",
       "  </tbody>\n",
       "</table>\n",
       "</div>"
      ],
      "text/plain": [
       "                 content_l     \n",
       "                     count  sum\n",
       "sender_name                    \n",
       "Barbra Streisand         3  274\n",
       "Colin Firth              3  126\n",
       "Juliette Lewis           7  417\n",
       "Ruby Dee                 1   50\n",
       "U2                       3   63"
      ]
     },
     "execution_count": 56,
     "metadata": {},
     "output_type": "execute_result"
    }
   ],
   "source": [
    "# genericre szűrés nélkül\n",
    "people_mess_chars_2(237, g=False)"
   ]
  },
  {
   "cell_type": "markdown",
   "metadata": {},
   "source": [
    "20. Megadok egy órát, átlagosan hány üzenetet küldtek ebben az órában az összes olyan napra átlagolva, amikor küldtek üzenetet? (5 pont)"
   ]
  },
  {
   "cell_type": "code",
   "execution_count": 314,
   "metadata": {},
   "outputs": [],
   "source": [
    "def mess_by_hour(hour, g=True):\n",
    "\n",
    "    return (\n",
    "        data.loc[data[\"hour\"] == hour]\n",
    "        .generic(g)\n",
    "        .groupby([\"year\", \"month\", \"day\"])\n",
    "        .count()[\"index\"]\n",
    "        .mean()\n",
    "    )"
   ]
  },
  {
   "cell_type": "code",
   "execution_count": 315,
   "metadata": {
    "scrolled": true
   },
   "outputs": [
    {
     "data": {
      "text/plain": [
       "13.714360587002096"
      ]
     },
     "execution_count": 315,
     "metadata": {},
     "output_type": "execute_result"
    }
   ],
   "source": [
    "mess_by_hour(17)"
   ]
  },
  {
   "cell_type": "code",
   "execution_count": 317,
   "metadata": {},
   "outputs": [
    {
     "data": {
      "text/plain": [
       "13.735033836543467"
      ]
     },
     "execution_count": 317,
     "metadata": {},
     "output_type": "execute_result"
    }
   ],
   "source": [
    "# genericre szűrés nélkül\n",
    "mess_by_hour(17, g=False)"
   ]
  },
  {
   "cell_type": "markdown",
   "metadata": {},
   "source": [
    "21. Megadok egy timestamp-et, melyik csetbe és kicsoda írta  eddig az időpontig a legtöbb karaktert (5 pont)"
   ]
  },
  {
   "cell_type": "code",
   "execution_count": 188,
   "metadata": {},
   "outputs": [],
   "source": [
    "def most_chars(timestamp=1293114321000, g=True, top_n=1):\n",
    "\n",
    "    return (\n",
    "        data.loc[data[\"timestamp_ms\"] <= timestamp]\n",
    "        .generic(g)\n",
    "        .groupby([\"thread_path\", \"sender_name\"])[\"content_l\"]\n",
    "        .sum()\n",
    "        .sort_argmax(top_n=top_n)\n",
    "    )"
   ]
  },
  {
   "cell_type": "code",
   "execution_count": 189,
   "metadata": {},
   "outputs": [
    {
     "data": {
      "text/plain": [
       "array([['622', 'Colin Firth'],\n",
       "       ['809', 'Ronald Colman'],\n",
       "       ['331', 'Colin Firth'],\n",
       "       ['585', 'Ruby Dee'],\n",
       "       ['679', 'The Tramp ']], dtype='<U21')"
      ]
     },
     "execution_count": 189,
     "metadata": {},
     "output_type": "execute_result"
    }
   ],
   "source": [
    "most_chars(top_n=5)"
   ]
  },
  {
   "cell_type": "code",
   "execution_count": 190,
   "metadata": {},
   "outputs": [
    {
     "data": {
      "text/plain": [
       "array([['622', 'Colin Firth'],\n",
       "       ['809', 'Ronald Colman'],\n",
       "       ['331', 'Colin Firth'],\n",
       "       ['585', 'Ruby Dee'],\n",
       "       ['679', 'The Tramp ']], dtype='<U21')"
      ]
     },
     "execution_count": 190,
     "metadata": {},
     "output_type": "execute_result"
    }
   ],
   "source": [
    "# genericre szűrés nélkül\n",
    "most_chars(g=False, top_n=5)"
   ]
  },
  {
   "cell_type": "markdown",
   "metadata": {},
   "source": [
    "22. Megadok egy timestamp-et, mi volt a leghosszabb periódus eddig az időpontig üzenet nélkül (7 pont)"
   ]
  },
  {
   "cell_type": "code",
   "execution_count": 191,
   "metadata": {},
   "outputs": [],
   "source": [
    "def longest_silent_period(timestamp=1293114321000, g=True, top_n=1):\n",
    "\n",
    "    return (\n",
    "        data.generic(g).loc[lambda df: df[\"timestamp_ms\"] <= timestamp, \"timestamp_ms\"]\n",
    "        .sort_values()\n",
    "        .diff()\n",
    "        .sort_values(ascending=False)[:top_n]\n",
    "        .values\n",
    "    )"
   ]
  },
  {
   "cell_type": "code",
   "execution_count": 319,
   "metadata": {},
   "outputs": [
    {
     "data": {
      "text/plain": [
       "array([1.1531014e+10, 3.8184020e+09, 1.3003870e+09, 1.0278930e+09,\n",
       "       1.0250950e+09])"
      ]
     },
     "execution_count": 319,
     "metadata": {},
     "output_type": "execute_result"
    }
   ],
   "source": [
    "longest_silent_period(top_n=5)"
   ]
  },
  {
   "cell_type": "code",
   "execution_count": 320,
   "metadata": {},
   "outputs": [
    {
     "data": {
      "text/plain": [
       "array([1.1531014e+10, 3.8184020e+09, 1.3003870e+09, 1.0278930e+09,\n",
       "       1.0250950e+09])"
      ]
     },
     "execution_count": 320,
     "metadata": {},
     "output_type": "execute_result"
    }
   ],
   "source": [
    "# genericre szűrés nélkül\n",
    "longest_silent_period(g=False, top_n=5)"
   ]
  },
  {
   "cell_type": "markdown",
   "metadata": {},
   "source": [
    "--------"
   ]
  },
  {
   "cell_type": "markdown",
   "metadata": {},
   "source": [
    "#### [vissza](#top)"
   ]
  },
  {
   "cell_type": "markdown",
   "metadata": {},
   "source": [
    "### plusz feladatok <a id=\"plusz\">"
   ]
  },
  {
   "cell_type": "markdown",
   "metadata": {},
   "source": [
    "23. Kinek üzent először Hanga? (1 pont)"
   ]
  },
  {
   "cell_type": "code",
   "execution_count": 81,
   "metadata": {},
   "outputs": [
    {
     "data": {
      "text/plain": [
       "['Judy Sheindlin']"
      ]
     },
     "execution_count": 81,
     "metadata": {},
     "output_type": "execute_result"
    }
   ],
   "source": [
    "[n for n in data.loc[data[\"thread_path\"] == data.loc[data[\"sender_name\"] == hanga].sort_values(\n",
    "    by=\"datetime\").generic().iloc[0][\"thread_path\"], \"sender_name\"].unique() if n != hanga]"
   ]
  },
  {
   "cell_type": "markdown",
   "metadata": {},
   "source": [
    "24. Mi Fenyő álneve? (3 pont)"
   ]
  },
  {
   "cell_type": "code",
   "execution_count": 84,
   "metadata": {},
   "outputs": [
    {
     "data": {
      "text/plain": [
       "'Leonardo DiCaprio'"
      ]
     },
     "execution_count": 84,
     "metadata": {},
     "output_type": "execute_result"
    }
   ],
   "source": [
    "data.loc[data[\"thread_path\"] == jeszk].sort_values(by=\"datetime\").iloc[0][\"sender_name\"]"
   ]
  },
  {
   "cell_type": "markdown",
   "metadata": {},
   "source": [
    "25. Mi Hanga évfolyamchatének indexe? (2 pont)"
   ]
  },
  {
   "cell_type": "code",
   "execution_count": 97,
   "metadata": {},
   "outputs": [
    {
     "data": {
      "text/plain": [
       "558"
      ]
     },
     "execution_count": 97,
     "metadata": {},
     "output_type": "execute_result"
    }
   ],
   "source": [
    "data.loc[data[\"year\"] >= 2016].groupby(\"thread_path\")[\"sender_name\"].nunique(\n",
    ").loc[lambda s: s == 21].index.tolist()[0]"
   ]
  },
  {
   "cell_type": "markdown",
   "metadata": {},
   "source": [
    "26. Mi a legfiatalabb szmt tag - Laufer Zoli - álneve? (3 pont)"
   ]
  },
  {
   "cell_type": "code",
   "execution_count": 1,
   "metadata": {
    "scrolled": true
   },
   "outputs": [
    {
     "data": {
      "text/plain": [
       "'Broderick Crawford'"
      ]
     },
     "execution_count": 1,
     "metadata": {},
     "output_type": "execute_result"
    }
   ],
   "source": [
    "'Broderick Crawford'"
   ]
  },
  {
   "cell_type": "markdown",
   "metadata": {},
   "source": [
    "27. Hanga melyik évben vált a legtöbb csoport tagjává? (2 pont?)"
   ]
  },
  {
   "cell_type": "code",
   "execution_count": 322,
   "metadata": {},
   "outputs": [
    {
     "data": {
      "text/plain": [
       "array([2018, 2019, 2017, 2016, 2011])"
      ]
     },
     "execution_count": 322,
     "metadata": {},
     "output_type": "execute_result"
    }
   ],
   "source": [
    "data.groupby(\"thread_path\")[[\"year\"]].min().merge(\n",
    "    memberships.loc[lambda df: df[\"n_members\"] > 2],\n",
    "    left_index=True, right_index=True, how=\"right\").reset_index(\n",
    ").groupby(\"year\")[\"thread_path\"].count().sort_argmax(top_n=5)"
   ]
  },
  {
   "cell_type": "markdown",
   "metadata": {},
   "source": [
    "28. Milyen hosszú az az üzenet, ami a legtöbb reakciót kapta? (3 pont)"
   ]
  },
  {
   "cell_type": "code",
   "execution_count": 194,
   "metadata": {},
   "outputs": [
    {
     "data": {
      "text/plain": [
       "296150    109\n",
       "293981      0\n",
       "204377     26\n",
       "264655      0\n",
       "312867      0\n",
       "Name: content_l, dtype: int64"
      ]
     },
     "execution_count": 194,
     "metadata": {},
     "output_type": "execute_result"
    }
   ],
   "source": [
    "data.loc[data[\"reactions\"].apply(lambda l: len(l)).sort_argmax(top_n=5), \"content_l\"]"
   ]
  },
  {
   "cell_type": "markdown",
   "metadata": {},
   "source": [
    "29. Melyik csoportos chatben küldték a legtöbb üzenetet a résztvevők számához viszonyítva (összes üzenetek száma / összes egyedi ember aki valaha tagja volt a csoportnak) (5 pont)"
   ]
  },
  {
   "cell_type": "code",
   "execution_count": 239,
   "metadata": {},
   "outputs": [
    {
     "data": {
      "text/plain": [
       "array([858, 454, 857, 356, 671])"
      ]
     },
     "execution_count": 239,
     "metadata": {},
     "output_type": "execute_result"
    }
   ],
   "source": [
    "memberships.loc[lambda df: df[\"n_members\"] > 2].merge(\n",
    "    data.generic().groupby(\"thread_path\")[[\"index\"]].count(\n",
    "    ).rename(columns={\"index\": \"n_mess\"}),\n",
    "    left_index=True, right_index=True, how=\"left\").assign(\n",
    "    rel_act=lambda df: df[\"n_mess\"] / df[\"n_members\"])[\"rel_act\"].sort_argmax(top_n=5)"
   ]
  },
  {
   "cell_type": "code",
   "execution_count": null,
   "metadata": {},
   "outputs": [],
   "source": []
  }
 ],
 "metadata": {
  "kernelspec": {
   "display_name": "Python 3",
   "language": "python",
   "name": "python3"
  },
  "language_info": {
   "codemirror_mode": {
    "name": "ipython",
    "version": 3
   },
   "file_extension": ".py",
   "mimetype": "text/x-python",
   "name": "python",
   "nbconvert_exporter": "python",
   "pygments_lexer": "ipython3",
   "version": "3.7.4"
  }
 },
 "nbformat": 4,
 "nbformat_minor": 2
}
